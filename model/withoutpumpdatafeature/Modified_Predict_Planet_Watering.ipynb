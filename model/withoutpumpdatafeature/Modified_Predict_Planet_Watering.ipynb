{
 "cells": [
  {
   "cell_type": "code",
   "execution_count": null,
   "id": "42c9e4a5",
   "metadata": {},
   "outputs": [],
   "source": [
    "\n",
    "def classify_water_status(soil_moisture, air_humidity, air_temperature):\n",
    "    # Classify based on soil moisture levels\n",
    "    if 600 < soil_moisture < 1000:\n",
    "        soil_status = \"Dry\"\n",
    "        water_status = \"Increase water (1% to 42%)\"\n",
    "    elif 370 <= soil_moisture <= 600:\n",
    "        soil_status = \"Humid\"\n",
    "        water_status = \"Water level is good (42% to 63%)\"\n",
    "    elif soil_moisture < 370:\n",
    "        soil_status = \"Sensor in water\"\n",
    "        water_status = \"Water wasted (63% to 99%)\"\n",
    "    else:\n",
    "        soil_status = \"Invalid sensor value\"\n",
    "        water_status = \"Check sensor\"\n",
    "\n",
    "    # Additional classification based on humidity and temperature\n",
    "    if air_humidity > 75:\n",
    "        if air_temperature > 26:\n",
    "            climate_condition = \"High humidity and high temperature\"\n",
    "            climate_status = \"Check for mold and bacteria growth, increase air circulation\"\n",
    "        else:\n",
    "            climate_condition = \"High humidity and low temperature\"\n",
    "            climate_status = \"Risk of plant rot, maintain air circulation\"\n",
    "    else:\n",
    "        if air_temperature > 26:\n",
    "            climate_condition = \"Low humidity and high temperature\"\n",
    "            climate_status = \"Increase water and fertilizer, risk of increased transpiration\"\n",
    "        else:\n",
    "            climate_condition = \"Low humidity and low temperature\"\n",
    "            climate_status = \"Optimal conditions, maintain current settings\"\n",
    "\n",
    "    return {\n",
    "        \"soil_status\": soil_status,\n",
    "        \"water_status\": water_status,\n",
    "        \"climate_condition\": climate_condition,\n",
    "        \"climate_status\": climate_status\n",
    "}\n"
   ]
  },
  {
   "cell_type": "markdown",
   "metadata": {
    "id": "zTg87Mk_Pt6y"
   },
   "source": [
    "# Generating Time Feature\n"
   ]
  },
  {
   "cell_type": "markdown",
   "metadata": {
    "id": "FYf0HoINEnns"
   },
   "source": []
  },
  {
   "cell_type": "code",
   "execution_count": 1,
   "metadata": {
    "id": "lHeHscgOP3HZ"
   },
   "outputs": [],
   "source": [
    "%matplotlib inline\n",
    "import warnings\n",
    "warnings.filterwarnings('ignore')"
   ]
  },
  {
   "cell_type": "markdown",
   "metadata": {
    "id": "lqiLMrGdhpJd"
   },
   "source": []
  },
  {
   "cell_type": "code",
   "execution_count": 2,
   "metadata": {
    "id": "I8s2IgAKF0-O"
   },
   "outputs": [],
   "source": [
    "import pandas as pd\n",
    "import numpy as np\n",
    "import matplotlib.pyplot as plt\n",
    "import seaborn as sns"
   ]
  },
  {
   "cell_type": "code",
   "execution_count": 3,
   "metadata": {
    "colab": {
     "base_uri": "https://localhost:8080/"
    },
    "id": "xVhe52L7P4AG",
    "outputId": "6f81fade-82bd-4698-ef05-855db2b4c54b"
   },
   "outputs": [
    {
     "name": "stdout",
     "output_type": "stream",
     "text": [
      "Mounted at /content/drive\n"
     ]
    }
   ],
   "source": [
    "from google.colab import drive\n",
    "drive.mount('/content/drive')"
   ]
  },
  {
   "cell_type": "code",
   "execution_count": 74,
   "metadata": {
    "id": "en6MeWAvP9vk"
   },
   "outputs": [],
   "source": [
    "# Load data\n",
    "file_path = '/content/drive/MyDrive/PredictPlanetWatering/Dataset/dataset.csv'\n",
    "df = pd.read_csv(file_path)"
   ]
  },
  {
   "cell_type": "code",
   "execution_count": 75,
   "metadata": {
    "colab": {
     "base_uri": "https://localhost:8080/",
     "height": 206
    },
    "id": "7s0ttEOLHM8l",
    "outputId": "196c3e05-ca0a-4709-eb3e-9dcc38e4c4ef"
   },
   "outputs": [
    {
     "data": {
      "application/vnd.google.colaboratory.intrinsic+json": {
       "summary": "{\n  \"name\": \"df\",\n  \"rows\": 3000,\n  \"fields\": [\n    {\n      \"column\": \"Soil Moisture\",\n      \"properties\": {\n        \"dtype\": \"number\",\n        \"std\": 187.9362971324645,\n        \"min\": 314.5110162,\n        \"max\": 984.82801,\n        \"num_unique_values\": 3000,\n        \"samples\": [\n          624.5526447,\n          868.1069346,\n          437.3257933\n        ],\n        \"semantic_type\": \"\",\n        \"description\": \"\"\n      }\n    },\n    {\n      \"column\": \"Temperature\",\n      \"properties\": {\n        \"dtype\": \"number\",\n        \"std\": 6.018564878724419,\n        \"min\": 18.00213247,\n        \"max\": 38.99276957,\n        \"num_unique_values\": 3000,\n        \"samples\": [\n          37.46037061,\n          22.37375219,\n          19.34636915\n        ],\n        \"semantic_type\": \"\",\n        \"description\": \"\"\n      }\n    },\n    {\n      \"column\": \"Air Humidity\",\n      \"properties\": {\n        \"dtype\": \"number\",\n        \"std\": 12.42816082127399,\n        \"min\": 38.00020142,\n        \"max\": 81.26740715,\n        \"num_unique_values\": 3000,\n        \"samples\": [\n          39.12413063,\n          41.12335653,\n          41.07765265\n        ],\n        \"semantic_type\": \"\",\n        \"description\": \"\"\n      }\n    },\n    {\n      \"column\": \"Pump Data\",\n      \"properties\": {\n        \"dtype\": \"number\",\n        \"std\": 0,\n        \"min\": 0,\n        \"max\": 1,\n        \"num_unique_values\": 2,\n        \"samples\": [\n          1,\n          0\n        ],\n        \"semantic_type\": \"\",\n        \"description\": \"\"\n      }\n    }\n  ]\n}",
       "type": "dataframe",
       "variable_name": "df"
      },
      "text/html": [
       "\n",
       "  <div id=\"df-4f175ee4-b961-4294-98bd-d683c241d9da\" class=\"colab-df-container\">\n",
       "    <div>\n",
       "<style scoped>\n",
       "    .dataframe tbody tr th:only-of-type {\n",
       "        vertical-align: middle;\n",
       "    }\n",
       "\n",
       "    .dataframe tbody tr th {\n",
       "        vertical-align: top;\n",
       "    }\n",
       "\n",
       "    .dataframe thead th {\n",
       "        text-align: right;\n",
       "    }\n",
       "</style>\n",
       "<table border=\"1\" class=\"dataframe\">\n",
       "  <thead>\n",
       "    <tr style=\"text-align: right;\">\n",
       "      <th></th>\n",
       "      <th>Soil Moisture</th>\n",
       "      <th>Temperature</th>\n",
       "      <th>Air Humidity</th>\n",
       "      <th>Pump Data</th>\n",
       "    </tr>\n",
       "  </thead>\n",
       "  <tbody>\n",
       "    <tr>\n",
       "      <th>0</th>\n",
       "      <td>683.802906</td>\n",
       "      <td>29.184908</td>\n",
       "      <td>71.789699</td>\n",
       "      <td>0</td>\n",
       "    </tr>\n",
       "    <tr>\n",
       "      <th>1</th>\n",
       "      <td>408.571567</td>\n",
       "      <td>33.707205</td>\n",
       "      <td>77.977391</td>\n",
       "      <td>1</td>\n",
       "    </tr>\n",
       "    <tr>\n",
       "      <th>2</th>\n",
       "      <td>659.092074</td>\n",
       "      <td>24.760311</td>\n",
       "      <td>60.776282</td>\n",
       "      <td>1</td>\n",
       "    </tr>\n",
       "    <tr>\n",
       "      <th>3</th>\n",
       "      <td>842.929764</td>\n",
       "      <td>32.738515</td>\n",
       "      <td>59.323543</td>\n",
       "      <td>0</td>\n",
       "    </tr>\n",
       "    <tr>\n",
       "      <th>4</th>\n",
       "      <td>414.199320</td>\n",
       "      <td>25.692744</td>\n",
       "      <td>66.624914</td>\n",
       "      <td>1</td>\n",
       "    </tr>\n",
       "  </tbody>\n",
       "</table>\n",
       "</div>\n",
       "    <div class=\"colab-df-buttons\">\n",
       "\n",
       "  <div class=\"colab-df-container\">\n",
       "    <button class=\"colab-df-convert\" onclick=\"convertToInteractive('df-4f175ee4-b961-4294-98bd-d683c241d9da')\"\n",
       "            title=\"Convert this dataframe to an interactive table.\"\n",
       "            style=\"display:none;\">\n",
       "\n",
       "  <svg xmlns=\"http://www.w3.org/2000/svg\" height=\"24px\" viewBox=\"0 -960 960 960\">\n",
       "    <path d=\"M120-120v-720h720v720H120Zm60-500h600v-160H180v160Zm220 220h160v-160H400v160Zm0 220h160v-160H400v160ZM180-400h160v-160H180v160Zm440 0h160v-160H620v160ZM180-180h160v-160H180v160Zm440 0h160v-160H620v160Z\"/>\n",
       "  </svg>\n",
       "    </button>\n",
       "\n",
       "  <style>\n",
       "    .colab-df-container {\n",
       "      display:flex;\n",
       "      gap: 12px;\n",
       "    }\n",
       "\n",
       "    .colab-df-convert {\n",
       "      background-color: #E8F0FE;\n",
       "      border: none;\n",
       "      border-radius: 50%;\n",
       "      cursor: pointer;\n",
       "      display: none;\n",
       "      fill: #1967D2;\n",
       "      height: 32px;\n",
       "      padding: 0 0 0 0;\n",
       "      width: 32px;\n",
       "    }\n",
       "\n",
       "    .colab-df-convert:hover {\n",
       "      background-color: #E2EBFA;\n",
       "      box-shadow: 0px 1px 2px rgba(60, 64, 67, 0.3), 0px 1px 3px 1px rgba(60, 64, 67, 0.15);\n",
       "      fill: #174EA6;\n",
       "    }\n",
       "\n",
       "    .colab-df-buttons div {\n",
       "      margin-bottom: 4px;\n",
       "    }\n",
       "\n",
       "    [theme=dark] .colab-df-convert {\n",
       "      background-color: #3B4455;\n",
       "      fill: #D2E3FC;\n",
       "    }\n",
       "\n",
       "    [theme=dark] .colab-df-convert:hover {\n",
       "      background-color: #434B5C;\n",
       "      box-shadow: 0px 1px 3px 1px rgba(0, 0, 0, 0.15);\n",
       "      filter: drop-shadow(0px 1px 2px rgba(0, 0, 0, 0.3));\n",
       "      fill: #FFFFFF;\n",
       "    }\n",
       "  </style>\n",
       "\n",
       "    <script>\n",
       "      const buttonEl =\n",
       "        document.querySelector('#df-4f175ee4-b961-4294-98bd-d683c241d9da button.colab-df-convert');\n",
       "      buttonEl.style.display =\n",
       "        google.colab.kernel.accessAllowed ? 'block' : 'none';\n",
       "\n",
       "      async function convertToInteractive(key) {\n",
       "        const element = document.querySelector('#df-4f175ee4-b961-4294-98bd-d683c241d9da');\n",
       "        const dataTable =\n",
       "          await google.colab.kernel.invokeFunction('convertToInteractive',\n",
       "                                                    [key], {});\n",
       "        if (!dataTable) return;\n",
       "\n",
       "        const docLinkHtml = 'Like what you see? Visit the ' +\n",
       "          '<a target=\"_blank\" href=https://colab.research.google.com/notebooks/data_table.ipynb>data table notebook</a>'\n",
       "          + ' to learn more about interactive tables.';\n",
       "        element.innerHTML = '';\n",
       "        dataTable['output_type'] = 'display_data';\n",
       "        await google.colab.output.renderOutput(dataTable, element);\n",
       "        const docLink = document.createElement('div');\n",
       "        docLink.innerHTML = docLinkHtml;\n",
       "        element.appendChild(docLink);\n",
       "      }\n",
       "    </script>\n",
       "  </div>\n",
       "\n",
       "\n",
       "<div id=\"df-b750feb2-4d32-4379-9a7e-0583eb5189d1\">\n",
       "  <button class=\"colab-df-quickchart\" onclick=\"quickchart('df-b750feb2-4d32-4379-9a7e-0583eb5189d1')\"\n",
       "            title=\"Suggest charts\"\n",
       "            style=\"display:none;\">\n",
       "\n",
       "<svg xmlns=\"http://www.w3.org/2000/svg\" height=\"24px\"viewBox=\"0 0 24 24\"\n",
       "     width=\"24px\">\n",
       "    <g>\n",
       "        <path d=\"M19 3H5c-1.1 0-2 .9-2 2v14c0 1.1.9 2 2 2h14c1.1 0 2-.9 2-2V5c0-1.1-.9-2-2-2zM9 17H7v-7h2v7zm4 0h-2V7h2v10zm4 0h-2v-4h2v4z\"/>\n",
       "    </g>\n",
       "</svg>\n",
       "  </button>\n",
       "\n",
       "<style>\n",
       "  .colab-df-quickchart {\n",
       "      --bg-color: #E8F0FE;\n",
       "      --fill-color: #1967D2;\n",
       "      --hover-bg-color: #E2EBFA;\n",
       "      --hover-fill-color: #174EA6;\n",
       "      --disabled-fill-color: #AAA;\n",
       "      --disabled-bg-color: #DDD;\n",
       "  }\n",
       "\n",
       "  [theme=dark] .colab-df-quickchart {\n",
       "      --bg-color: #3B4455;\n",
       "      --fill-color: #D2E3FC;\n",
       "      --hover-bg-color: #434B5C;\n",
       "      --hover-fill-color: #FFFFFF;\n",
       "      --disabled-bg-color: #3B4455;\n",
       "      --disabled-fill-color: #666;\n",
       "  }\n",
       "\n",
       "  .colab-df-quickchart {\n",
       "    background-color: var(--bg-color);\n",
       "    border: none;\n",
       "    border-radius: 50%;\n",
       "    cursor: pointer;\n",
       "    display: none;\n",
       "    fill: var(--fill-color);\n",
       "    height: 32px;\n",
       "    padding: 0;\n",
       "    width: 32px;\n",
       "  }\n",
       "\n",
       "  .colab-df-quickchart:hover {\n",
       "    background-color: var(--hover-bg-color);\n",
       "    box-shadow: 0 1px 2px rgba(60, 64, 67, 0.3), 0 1px 3px 1px rgba(60, 64, 67, 0.15);\n",
       "    fill: var(--button-hover-fill-color);\n",
       "  }\n",
       "\n",
       "  .colab-df-quickchart-complete:disabled,\n",
       "  .colab-df-quickchart-complete:disabled:hover {\n",
       "    background-color: var(--disabled-bg-color);\n",
       "    fill: var(--disabled-fill-color);\n",
       "    box-shadow: none;\n",
       "  }\n",
       "\n",
       "  .colab-df-spinner {\n",
       "    border: 2px solid var(--fill-color);\n",
       "    border-color: transparent;\n",
       "    border-bottom-color: var(--fill-color);\n",
       "    animation:\n",
       "      spin 1s steps(1) infinite;\n",
       "  }\n",
       "\n",
       "  @keyframes spin {\n",
       "    0% {\n",
       "      border-color: transparent;\n",
       "      border-bottom-color: var(--fill-color);\n",
       "      border-left-color: var(--fill-color);\n",
       "    }\n",
       "    20% {\n",
       "      border-color: transparent;\n",
       "      border-left-color: var(--fill-color);\n",
       "      border-top-color: var(--fill-color);\n",
       "    }\n",
       "    30% {\n",
       "      border-color: transparent;\n",
       "      border-left-color: var(--fill-color);\n",
       "      border-top-color: var(--fill-color);\n",
       "      border-right-color: var(--fill-color);\n",
       "    }\n",
       "    40% {\n",
       "      border-color: transparent;\n",
       "      border-right-color: var(--fill-color);\n",
       "      border-top-color: var(--fill-color);\n",
       "    }\n",
       "    60% {\n",
       "      border-color: transparent;\n",
       "      border-right-color: var(--fill-color);\n",
       "    }\n",
       "    80% {\n",
       "      border-color: transparent;\n",
       "      border-right-color: var(--fill-color);\n",
       "      border-bottom-color: var(--fill-color);\n",
       "    }\n",
       "    90% {\n",
       "      border-color: transparent;\n",
       "      border-bottom-color: var(--fill-color);\n",
       "    }\n",
       "  }\n",
       "</style>\n",
       "\n",
       "  <script>\n",
       "    async function quickchart(key) {\n",
       "      const quickchartButtonEl =\n",
       "        document.querySelector('#' + key + ' button');\n",
       "      quickchartButtonEl.disabled = true;  // To prevent multiple clicks.\n",
       "      quickchartButtonEl.classList.add('colab-df-spinner');\n",
       "      try {\n",
       "        const charts = await google.colab.kernel.invokeFunction(\n",
       "            'suggestCharts', [key], {});\n",
       "      } catch (error) {\n",
       "        console.error('Error during call to suggestCharts:', error);\n",
       "      }\n",
       "      quickchartButtonEl.classList.remove('colab-df-spinner');\n",
       "      quickchartButtonEl.classList.add('colab-df-quickchart-complete');\n",
       "    }\n",
       "    (() => {\n",
       "      let quickchartButtonEl =\n",
       "        document.querySelector('#df-b750feb2-4d32-4379-9a7e-0583eb5189d1 button');\n",
       "      quickchartButtonEl.style.display =\n",
       "        google.colab.kernel.accessAllowed ? 'block' : 'none';\n",
       "    })();\n",
       "  </script>\n",
       "</div>\n",
       "\n",
       "    </div>\n",
       "  </div>\n"
      ],
      "text/plain": [
       "   Soil Moisture  Temperature  Air Humidity  Pump Data\n",
       "0     683.802906    29.184908     71.789699          0\n",
       "1     408.571567    33.707205     77.977391          1\n",
       "2     659.092074    24.760311     60.776282          1\n",
       "3     842.929764    32.738515     59.323543          0\n",
       "4     414.199320    25.692744     66.624914          1"
      ]
     },
     "execution_count": 75,
     "metadata": {},
     "output_type": "execute_result"
    }
   ],
   "source": [
    "df.head()"
   ]
  },
  {
   "cell_type": "code",
   "execution_count": 76,
   "metadata": {
    "id": "gbb6HWrnHTAF"
   },
   "outputs": [],
   "source": [
    "df.drop('Pump Data', axis=1, inplace=True)\n"
   ]
  },
  {
   "cell_type": "markdown",
   "metadata": {
    "id": "Ukg0w1HqZ4yL"
   },
   "source": []
  },
  {
   "cell_type": "code",
   "execution_count": 77,
   "metadata": {
    "colab": {
     "base_uri": "https://localhost:8080/",
     "height": 363
    },
    "id": "jYnyobgPHWze",
    "outputId": "a6130e4f-95f5-4d01-cdc0-6a9e575f82de"
   },
   "outputs": [
    {
     "data": {
      "application/vnd.google.colaboratory.intrinsic+json": {
       "summary": "{\n  \"name\": \"df\",\n  \"rows\": 3000,\n  \"fields\": [\n    {\n      \"column\": \"Soil Moisture\",\n      \"properties\": {\n        \"dtype\": \"number\",\n        \"std\": 187.9362971324645,\n        \"min\": 314.5110162,\n        \"max\": 984.82801,\n        \"num_unique_values\": 3000,\n        \"samples\": [\n          624.5526447,\n          868.1069346,\n          437.3257933\n        ],\n        \"semantic_type\": \"\",\n        \"description\": \"\"\n      }\n    },\n    {\n      \"column\": \"Temperature\",\n      \"properties\": {\n        \"dtype\": \"number\",\n        \"std\": 6.018564878724419,\n        \"min\": 18.00213247,\n        \"max\": 38.99276957,\n        \"num_unique_values\": 3000,\n        \"samples\": [\n          37.46037061,\n          22.37375219,\n          19.34636915\n        ],\n        \"semantic_type\": \"\",\n        \"description\": \"\"\n      }\n    },\n    {\n      \"column\": \"Air Humidity\",\n      \"properties\": {\n        \"dtype\": \"number\",\n        \"std\": 12.42816082127399,\n        \"min\": 38.00020142,\n        \"max\": 81.26740715,\n        \"num_unique_values\": 3000,\n        \"samples\": [\n          39.12413063,\n          41.12335653,\n          41.07765265\n        ],\n        \"semantic_type\": \"\",\n        \"description\": \"\"\n      }\n    }\n  ]\n}",
       "type": "dataframe",
       "variable_name": "df"
      },
      "text/html": [
       "\n",
       "  <div id=\"df-f7079640-6f2a-49af-a74d-ce2d186e5ecb\" class=\"colab-df-container\">\n",
       "    <div>\n",
       "<style scoped>\n",
       "    .dataframe tbody tr th:only-of-type {\n",
       "        vertical-align: middle;\n",
       "    }\n",
       "\n",
       "    .dataframe tbody tr th {\n",
       "        vertical-align: top;\n",
       "    }\n",
       "\n",
       "    .dataframe thead th {\n",
       "        text-align: right;\n",
       "    }\n",
       "</style>\n",
       "<table border=\"1\" class=\"dataframe\">\n",
       "  <thead>\n",
       "    <tr style=\"text-align: right;\">\n",
       "      <th></th>\n",
       "      <th>Soil Moisture</th>\n",
       "      <th>Temperature</th>\n",
       "      <th>Air Humidity</th>\n",
       "    </tr>\n",
       "  </thead>\n",
       "  <tbody>\n",
       "    <tr>\n",
       "      <th>0</th>\n",
       "      <td>683.802906</td>\n",
       "      <td>29.184908</td>\n",
       "      <td>71.789699</td>\n",
       "    </tr>\n",
       "    <tr>\n",
       "      <th>1</th>\n",
       "      <td>408.571567</td>\n",
       "      <td>33.707205</td>\n",
       "      <td>77.977391</td>\n",
       "    </tr>\n",
       "    <tr>\n",
       "      <th>2</th>\n",
       "      <td>659.092074</td>\n",
       "      <td>24.760311</td>\n",
       "      <td>60.776282</td>\n",
       "    </tr>\n",
       "    <tr>\n",
       "      <th>3</th>\n",
       "      <td>842.929764</td>\n",
       "      <td>32.738515</td>\n",
       "      <td>59.323543</td>\n",
       "    </tr>\n",
       "    <tr>\n",
       "      <th>4</th>\n",
       "      <td>414.199320</td>\n",
       "      <td>25.692744</td>\n",
       "      <td>66.624914</td>\n",
       "    </tr>\n",
       "    <tr>\n",
       "      <th>5</th>\n",
       "      <td>487.521226</td>\n",
       "      <td>33.806809</td>\n",
       "      <td>47.774693</td>\n",
       "    </tr>\n",
       "    <tr>\n",
       "      <th>6</th>\n",
       "      <td>820.856733</td>\n",
       "      <td>32.659495</td>\n",
       "      <td>40.317592</td>\n",
       "    </tr>\n",
       "    <tr>\n",
       "      <th>7</th>\n",
       "      <td>726.504807</td>\n",
       "      <td>38.083939</td>\n",
       "      <td>50.915951</td>\n",
       "    </tr>\n",
       "    <tr>\n",
       "      <th>8</th>\n",
       "      <td>939.915978</td>\n",
       "      <td>35.430747</td>\n",
       "      <td>60.822721</td>\n",
       "    </tr>\n",
       "    <tr>\n",
       "      <th>9</th>\n",
       "      <td>628.397718</td>\n",
       "      <td>34.232923</td>\n",
       "      <td>42.994402</td>\n",
       "    </tr>\n",
       "  </tbody>\n",
       "</table>\n",
       "</div>\n",
       "    <div class=\"colab-df-buttons\">\n",
       "\n",
       "  <div class=\"colab-df-container\">\n",
       "    <button class=\"colab-df-convert\" onclick=\"convertToInteractive('df-f7079640-6f2a-49af-a74d-ce2d186e5ecb')\"\n",
       "            title=\"Convert this dataframe to an interactive table.\"\n",
       "            style=\"display:none;\">\n",
       "\n",
       "  <svg xmlns=\"http://www.w3.org/2000/svg\" height=\"24px\" viewBox=\"0 -960 960 960\">\n",
       "    <path d=\"M120-120v-720h720v720H120Zm60-500h600v-160H180v160Zm220 220h160v-160H400v160Zm0 220h160v-160H400v160ZM180-400h160v-160H180v160Zm440 0h160v-160H620v160ZM180-180h160v-160H180v160Zm440 0h160v-160H620v160Z\"/>\n",
       "  </svg>\n",
       "    </button>\n",
       "\n",
       "  <style>\n",
       "    .colab-df-container {\n",
       "      display:flex;\n",
       "      gap: 12px;\n",
       "    }\n",
       "\n",
       "    .colab-df-convert {\n",
       "      background-color: #E8F0FE;\n",
       "      border: none;\n",
       "      border-radius: 50%;\n",
       "      cursor: pointer;\n",
       "      display: none;\n",
       "      fill: #1967D2;\n",
       "      height: 32px;\n",
       "      padding: 0 0 0 0;\n",
       "      width: 32px;\n",
       "    }\n",
       "\n",
       "    .colab-df-convert:hover {\n",
       "      background-color: #E2EBFA;\n",
       "      box-shadow: 0px 1px 2px rgba(60, 64, 67, 0.3), 0px 1px 3px 1px rgba(60, 64, 67, 0.15);\n",
       "      fill: #174EA6;\n",
       "    }\n",
       "\n",
       "    .colab-df-buttons div {\n",
       "      margin-bottom: 4px;\n",
       "    }\n",
       "\n",
       "    [theme=dark] .colab-df-convert {\n",
       "      background-color: #3B4455;\n",
       "      fill: #D2E3FC;\n",
       "    }\n",
       "\n",
       "    [theme=dark] .colab-df-convert:hover {\n",
       "      background-color: #434B5C;\n",
       "      box-shadow: 0px 1px 3px 1px rgba(0, 0, 0, 0.15);\n",
       "      filter: drop-shadow(0px 1px 2px rgba(0, 0, 0, 0.3));\n",
       "      fill: #FFFFFF;\n",
       "    }\n",
       "  </style>\n",
       "\n",
       "    <script>\n",
       "      const buttonEl =\n",
       "        document.querySelector('#df-f7079640-6f2a-49af-a74d-ce2d186e5ecb button.colab-df-convert');\n",
       "      buttonEl.style.display =\n",
       "        google.colab.kernel.accessAllowed ? 'block' : 'none';\n",
       "\n",
       "      async function convertToInteractive(key) {\n",
       "        const element = document.querySelector('#df-f7079640-6f2a-49af-a74d-ce2d186e5ecb');\n",
       "        const dataTable =\n",
       "          await google.colab.kernel.invokeFunction('convertToInteractive',\n",
       "                                                    [key], {});\n",
       "        if (!dataTable) return;\n",
       "\n",
       "        const docLinkHtml = 'Like what you see? Visit the ' +\n",
       "          '<a target=\"_blank\" href=https://colab.research.google.com/notebooks/data_table.ipynb>data table notebook</a>'\n",
       "          + ' to learn more about interactive tables.';\n",
       "        element.innerHTML = '';\n",
       "        dataTable['output_type'] = 'display_data';\n",
       "        await google.colab.output.renderOutput(dataTable, element);\n",
       "        const docLink = document.createElement('div');\n",
       "        docLink.innerHTML = docLinkHtml;\n",
       "        element.appendChild(docLink);\n",
       "      }\n",
       "    </script>\n",
       "  </div>\n",
       "\n",
       "\n",
       "<div id=\"df-5bdbed6b-73bb-4e14-bd64-47a10f0d17f9\">\n",
       "  <button class=\"colab-df-quickchart\" onclick=\"quickchart('df-5bdbed6b-73bb-4e14-bd64-47a10f0d17f9')\"\n",
       "            title=\"Suggest charts\"\n",
       "            style=\"display:none;\">\n",
       "\n",
       "<svg xmlns=\"http://www.w3.org/2000/svg\" height=\"24px\"viewBox=\"0 0 24 24\"\n",
       "     width=\"24px\">\n",
       "    <g>\n",
       "        <path d=\"M19 3H5c-1.1 0-2 .9-2 2v14c0 1.1.9 2 2 2h14c1.1 0 2-.9 2-2V5c0-1.1-.9-2-2-2zM9 17H7v-7h2v7zm4 0h-2V7h2v10zm4 0h-2v-4h2v4z\"/>\n",
       "    </g>\n",
       "</svg>\n",
       "  </button>\n",
       "\n",
       "<style>\n",
       "  .colab-df-quickchart {\n",
       "      --bg-color: #E8F0FE;\n",
       "      --fill-color: #1967D2;\n",
       "      --hover-bg-color: #E2EBFA;\n",
       "      --hover-fill-color: #174EA6;\n",
       "      --disabled-fill-color: #AAA;\n",
       "      --disabled-bg-color: #DDD;\n",
       "  }\n",
       "\n",
       "  [theme=dark] .colab-df-quickchart {\n",
       "      --bg-color: #3B4455;\n",
       "      --fill-color: #D2E3FC;\n",
       "      --hover-bg-color: #434B5C;\n",
       "      --hover-fill-color: #FFFFFF;\n",
       "      --disabled-bg-color: #3B4455;\n",
       "      --disabled-fill-color: #666;\n",
       "  }\n",
       "\n",
       "  .colab-df-quickchart {\n",
       "    background-color: var(--bg-color);\n",
       "    border: none;\n",
       "    border-radius: 50%;\n",
       "    cursor: pointer;\n",
       "    display: none;\n",
       "    fill: var(--fill-color);\n",
       "    height: 32px;\n",
       "    padding: 0;\n",
       "    width: 32px;\n",
       "  }\n",
       "\n",
       "  .colab-df-quickchart:hover {\n",
       "    background-color: var(--hover-bg-color);\n",
       "    box-shadow: 0 1px 2px rgba(60, 64, 67, 0.3), 0 1px 3px 1px rgba(60, 64, 67, 0.15);\n",
       "    fill: var(--button-hover-fill-color);\n",
       "  }\n",
       "\n",
       "  .colab-df-quickchart-complete:disabled,\n",
       "  .colab-df-quickchart-complete:disabled:hover {\n",
       "    background-color: var(--disabled-bg-color);\n",
       "    fill: var(--disabled-fill-color);\n",
       "    box-shadow: none;\n",
       "  }\n",
       "\n",
       "  .colab-df-spinner {\n",
       "    border: 2px solid var(--fill-color);\n",
       "    border-color: transparent;\n",
       "    border-bottom-color: var(--fill-color);\n",
       "    animation:\n",
       "      spin 1s steps(1) infinite;\n",
       "  }\n",
       "\n",
       "  @keyframes spin {\n",
       "    0% {\n",
       "      border-color: transparent;\n",
       "      border-bottom-color: var(--fill-color);\n",
       "      border-left-color: var(--fill-color);\n",
       "    }\n",
       "    20% {\n",
       "      border-color: transparent;\n",
       "      border-left-color: var(--fill-color);\n",
       "      border-top-color: var(--fill-color);\n",
       "    }\n",
       "    30% {\n",
       "      border-color: transparent;\n",
       "      border-left-color: var(--fill-color);\n",
       "      border-top-color: var(--fill-color);\n",
       "      border-right-color: var(--fill-color);\n",
       "    }\n",
       "    40% {\n",
       "      border-color: transparent;\n",
       "      border-right-color: var(--fill-color);\n",
       "      border-top-color: var(--fill-color);\n",
       "    }\n",
       "    60% {\n",
       "      border-color: transparent;\n",
       "      border-right-color: var(--fill-color);\n",
       "    }\n",
       "    80% {\n",
       "      border-color: transparent;\n",
       "      border-right-color: var(--fill-color);\n",
       "      border-bottom-color: var(--fill-color);\n",
       "    }\n",
       "    90% {\n",
       "      border-color: transparent;\n",
       "      border-bottom-color: var(--fill-color);\n",
       "    }\n",
       "  }\n",
       "</style>\n",
       "\n",
       "  <script>\n",
       "    async function quickchart(key) {\n",
       "      const quickchartButtonEl =\n",
       "        document.querySelector('#' + key + ' button');\n",
       "      quickchartButtonEl.disabled = true;  // To prevent multiple clicks.\n",
       "      quickchartButtonEl.classList.add('colab-df-spinner');\n",
       "      try {\n",
       "        const charts = await google.colab.kernel.invokeFunction(\n",
       "            'suggestCharts', [key], {});\n",
       "      } catch (error) {\n",
       "        console.error('Error during call to suggestCharts:', error);\n",
       "      }\n",
       "      quickchartButtonEl.classList.remove('colab-df-spinner');\n",
       "      quickchartButtonEl.classList.add('colab-df-quickchart-complete');\n",
       "    }\n",
       "    (() => {\n",
       "      let quickchartButtonEl =\n",
       "        document.querySelector('#df-5bdbed6b-73bb-4e14-bd64-47a10f0d17f9 button');\n",
       "      quickchartButtonEl.style.display =\n",
       "        google.colab.kernel.accessAllowed ? 'block' : 'none';\n",
       "    })();\n",
       "  </script>\n",
       "</div>\n",
       "\n",
       "    </div>\n",
       "  </div>\n"
      ],
      "text/plain": [
       "   Soil Moisture  Temperature  Air Humidity\n",
       "0     683.802906    29.184908     71.789699\n",
       "1     408.571567    33.707205     77.977391\n",
       "2     659.092074    24.760311     60.776282\n",
       "3     842.929764    32.738515     59.323543\n",
       "4     414.199320    25.692744     66.624914\n",
       "5     487.521226    33.806809     47.774693\n",
       "6     820.856733    32.659495     40.317592\n",
       "7     726.504807    38.083939     50.915951\n",
       "8     939.915978    35.430747     60.822721\n",
       "9     628.397718    34.232923     42.994402"
      ]
     },
     "execution_count": 77,
     "metadata": {},
     "output_type": "execute_result"
    }
   ],
   "source": [
    "df.head(10)"
   ]
  },
  {
   "cell_type": "markdown",
   "metadata": {
    "id": "FeY1DI39N7qV"
   },
   "source": [
    "If the sensor value is more than 600 but less than 1000 then the soil is dry. -> 1% to 42% increase water <br>\n",
    "If the sensor value is 370 to 600 then the soil is humid. 42% to 63% level of water is good <br>\n",
    "If the sensor value is less than 370 then the sensor in the water. -> 63% to 99%  water wasted"
   ]
  },
  {
   "cell_type": "code",
   "execution_count": 8,
   "metadata": {
    "id": "TfCuADqOKELO"
   },
   "outputs": [],
   "source": [
    "df['Soil Moisture'] = 100 - (df['Soil Moisture'] * 100 / 1023)\n"
   ]
  },
  {
   "cell_type": "code",
   "execution_count": 9,
   "metadata": {
    "colab": {
     "base_uri": "https://localhost:8080/",
     "height": 363
    },
    "id": "HxSjYgdVKIj2",
    "outputId": "c825ea60-1d16-449a-f065-5d2b3b1ec6fa"
   },
   "outputs": [
    {
     "data": {
      "application/vnd.google.colaboratory.intrinsic+json": {
       "summary": "{\n  \"name\": \"df\",\n  \"rows\": 3000,\n  \"fields\": [\n    {\n      \"column\": \"Soil Moisture\",\n      \"properties\": {\n        \"dtype\": \"number\",\n        \"std\": 18.371094538852834,\n        \"min\": 3.7313773216031336,\n        \"max\": 69.25601014662757,\n        \"num_unique_values\": 3000,\n        \"samples\": [\n          38.948910586510266,\n          15.141062111436938,\n          57.25065559139785\n        ],\n        \"semantic_type\": \"\",\n        \"description\": \"\"\n      }\n    },\n    {\n      \"column\": \"Temperature\",\n      \"properties\": {\n        \"dtype\": \"number\",\n        \"std\": 6.018564878724419,\n        \"min\": 18.00213247,\n        \"max\": 38.99276957,\n        \"num_unique_values\": 3000,\n        \"samples\": [\n          37.46037061,\n          22.37375219,\n          19.34636915\n        ],\n        \"semantic_type\": \"\",\n        \"description\": \"\"\n      }\n    },\n    {\n      \"column\": \"Air Humidity\",\n      \"properties\": {\n        \"dtype\": \"number\",\n        \"std\": 12.42816082127399,\n        \"min\": 38.00020142,\n        \"max\": 81.26740715,\n        \"num_unique_values\": 3000,\n        \"samples\": [\n          39.12413063,\n          41.12335653,\n          41.07765265\n        ],\n        \"semantic_type\": \"\",\n        \"description\": \"\"\n      }\n    }\n  ]\n}",
       "type": "dataframe",
       "variable_name": "df"
      },
      "text/html": [
       "\n",
       "  <div id=\"df-834c4dae-403c-4fd0-8ae2-c6d76c928769\" class=\"colab-df-container\">\n",
       "    <div>\n",
       "<style scoped>\n",
       "    .dataframe tbody tr th:only-of-type {\n",
       "        vertical-align: middle;\n",
       "    }\n",
       "\n",
       "    .dataframe tbody tr th {\n",
       "        vertical-align: top;\n",
       "    }\n",
       "\n",
       "    .dataframe thead th {\n",
       "        text-align: right;\n",
       "    }\n",
       "</style>\n",
       "<table border=\"1\" class=\"dataframe\">\n",
       "  <thead>\n",
       "    <tr style=\"text-align: right;\">\n",
       "      <th></th>\n",
       "      <th>Soil Moisture</th>\n",
       "      <th>Temperature</th>\n",
       "      <th>Air Humidity</th>\n",
       "    </tr>\n",
       "  </thead>\n",
       "  <tbody>\n",
       "    <tr>\n",
       "      <th>0</th>\n",
       "      <td>33.157096</td>\n",
       "      <td>29.184908</td>\n",
       "      <td>71.789699</td>\n",
       "    </tr>\n",
       "    <tr>\n",
       "      <th>1</th>\n",
       "      <td>60.061430</td>\n",
       "      <td>33.707205</td>\n",
       "      <td>77.977391</td>\n",
       "    </tr>\n",
       "    <tr>\n",
       "      <th>2</th>\n",
       "      <td>35.572622</td>\n",
       "      <td>24.760311</td>\n",
       "      <td>60.776282</td>\n",
       "    </tr>\n",
       "    <tr>\n",
       "      <th>3</th>\n",
       "      <td>17.602174</td>\n",
       "      <td>32.738515</td>\n",
       "      <td>59.323543</td>\n",
       "    </tr>\n",
       "    <tr>\n",
       "      <th>4</th>\n",
       "      <td>59.511308</td>\n",
       "      <td>25.692744</td>\n",
       "      <td>66.624914</td>\n",
       "    </tr>\n",
       "    <tr>\n",
       "      <th>5</th>\n",
       "      <td>52.343966</td>\n",
       "      <td>33.806809</td>\n",
       "      <td>47.774693</td>\n",
       "    </tr>\n",
       "    <tr>\n",
       "      <th>6</th>\n",
       "      <td>19.759850</td>\n",
       "      <td>32.659495</td>\n",
       "      <td>40.317592</td>\n",
       "    </tr>\n",
       "    <tr>\n",
       "      <th>7</th>\n",
       "      <td>28.982912</td>\n",
       "      <td>38.083939</td>\n",
       "      <td>50.915951</td>\n",
       "    </tr>\n",
       "    <tr>\n",
       "      <th>8</th>\n",
       "      <td>8.121605</td>\n",
       "      <td>35.430747</td>\n",
       "      <td>60.822721</td>\n",
       "    </tr>\n",
       "    <tr>\n",
       "      <th>9</th>\n",
       "      <td>38.573048</td>\n",
       "      <td>34.232923</td>\n",
       "      <td>42.994402</td>\n",
       "    </tr>\n",
       "  </tbody>\n",
       "</table>\n",
       "</div>\n",
       "    <div class=\"colab-df-buttons\">\n",
       "\n",
       "  <div class=\"colab-df-container\">\n",
       "    <button class=\"colab-df-convert\" onclick=\"convertToInteractive('df-834c4dae-403c-4fd0-8ae2-c6d76c928769')\"\n",
       "            title=\"Convert this dataframe to an interactive table.\"\n",
       "            style=\"display:none;\">\n",
       "\n",
       "  <svg xmlns=\"http://www.w3.org/2000/svg\" height=\"24px\" viewBox=\"0 -960 960 960\">\n",
       "    <path d=\"M120-120v-720h720v720H120Zm60-500h600v-160H180v160Zm220 220h160v-160H400v160Zm0 220h160v-160H400v160ZM180-400h160v-160H180v160Zm440 0h160v-160H620v160ZM180-180h160v-160H180v160Zm440 0h160v-160H620v160Z\"/>\n",
       "  </svg>\n",
       "    </button>\n",
       "\n",
       "  <style>\n",
       "    .colab-df-container {\n",
       "      display:flex;\n",
       "      gap: 12px;\n",
       "    }\n",
       "\n",
       "    .colab-df-convert {\n",
       "      background-color: #E8F0FE;\n",
       "      border: none;\n",
       "      border-radius: 50%;\n",
       "      cursor: pointer;\n",
       "      display: none;\n",
       "      fill: #1967D2;\n",
       "      height: 32px;\n",
       "      padding: 0 0 0 0;\n",
       "      width: 32px;\n",
       "    }\n",
       "\n",
       "    .colab-df-convert:hover {\n",
       "      background-color: #E2EBFA;\n",
       "      box-shadow: 0px 1px 2px rgba(60, 64, 67, 0.3), 0px 1px 3px 1px rgba(60, 64, 67, 0.15);\n",
       "      fill: #174EA6;\n",
       "    }\n",
       "\n",
       "    .colab-df-buttons div {\n",
       "      margin-bottom: 4px;\n",
       "    }\n",
       "\n",
       "    [theme=dark] .colab-df-convert {\n",
       "      background-color: #3B4455;\n",
       "      fill: #D2E3FC;\n",
       "    }\n",
       "\n",
       "    [theme=dark] .colab-df-convert:hover {\n",
       "      background-color: #434B5C;\n",
       "      box-shadow: 0px 1px 3px 1px rgba(0, 0, 0, 0.15);\n",
       "      filter: drop-shadow(0px 1px 2px rgba(0, 0, 0, 0.3));\n",
       "      fill: #FFFFFF;\n",
       "    }\n",
       "  </style>\n",
       "\n",
       "    <script>\n",
       "      const buttonEl =\n",
       "        document.querySelector('#df-834c4dae-403c-4fd0-8ae2-c6d76c928769 button.colab-df-convert');\n",
       "      buttonEl.style.display =\n",
       "        google.colab.kernel.accessAllowed ? 'block' : 'none';\n",
       "\n",
       "      async function convertToInteractive(key) {\n",
       "        const element = document.querySelector('#df-834c4dae-403c-4fd0-8ae2-c6d76c928769');\n",
       "        const dataTable =\n",
       "          await google.colab.kernel.invokeFunction('convertToInteractive',\n",
       "                                                    [key], {});\n",
       "        if (!dataTable) return;\n",
       "\n",
       "        const docLinkHtml = 'Like what you see? Visit the ' +\n",
       "          '<a target=\"_blank\" href=https://colab.research.google.com/notebooks/data_table.ipynb>data table notebook</a>'\n",
       "          + ' to learn more about interactive tables.';\n",
       "        element.innerHTML = '';\n",
       "        dataTable['output_type'] = 'display_data';\n",
       "        await google.colab.output.renderOutput(dataTable, element);\n",
       "        const docLink = document.createElement('div');\n",
       "        docLink.innerHTML = docLinkHtml;\n",
       "        element.appendChild(docLink);\n",
       "      }\n",
       "    </script>\n",
       "  </div>\n",
       "\n",
       "\n",
       "<div id=\"df-ec26c9cd-cb04-4092-b812-ad59feea8b4c\">\n",
       "  <button class=\"colab-df-quickchart\" onclick=\"quickchart('df-ec26c9cd-cb04-4092-b812-ad59feea8b4c')\"\n",
       "            title=\"Suggest charts\"\n",
       "            style=\"display:none;\">\n",
       "\n",
       "<svg xmlns=\"http://www.w3.org/2000/svg\" height=\"24px\"viewBox=\"0 0 24 24\"\n",
       "     width=\"24px\">\n",
       "    <g>\n",
       "        <path d=\"M19 3H5c-1.1 0-2 .9-2 2v14c0 1.1.9 2 2 2h14c1.1 0 2-.9 2-2V5c0-1.1-.9-2-2-2zM9 17H7v-7h2v7zm4 0h-2V7h2v10zm4 0h-2v-4h2v4z\"/>\n",
       "    </g>\n",
       "</svg>\n",
       "  </button>\n",
       "\n",
       "<style>\n",
       "  .colab-df-quickchart {\n",
       "      --bg-color: #E8F0FE;\n",
       "      --fill-color: #1967D2;\n",
       "      --hover-bg-color: #E2EBFA;\n",
       "      --hover-fill-color: #174EA6;\n",
       "      --disabled-fill-color: #AAA;\n",
       "      --disabled-bg-color: #DDD;\n",
       "  }\n",
       "\n",
       "  [theme=dark] .colab-df-quickchart {\n",
       "      --bg-color: #3B4455;\n",
       "      --fill-color: #D2E3FC;\n",
       "      --hover-bg-color: #434B5C;\n",
       "      --hover-fill-color: #FFFFFF;\n",
       "      --disabled-bg-color: #3B4455;\n",
       "      --disabled-fill-color: #666;\n",
       "  }\n",
       "\n",
       "  .colab-df-quickchart {\n",
       "    background-color: var(--bg-color);\n",
       "    border: none;\n",
       "    border-radius: 50%;\n",
       "    cursor: pointer;\n",
       "    display: none;\n",
       "    fill: var(--fill-color);\n",
       "    height: 32px;\n",
       "    padding: 0;\n",
       "    width: 32px;\n",
       "  }\n",
       "\n",
       "  .colab-df-quickchart:hover {\n",
       "    background-color: var(--hover-bg-color);\n",
       "    box-shadow: 0 1px 2px rgba(60, 64, 67, 0.3), 0 1px 3px 1px rgba(60, 64, 67, 0.15);\n",
       "    fill: var(--button-hover-fill-color);\n",
       "  }\n",
       "\n",
       "  .colab-df-quickchart-complete:disabled,\n",
       "  .colab-df-quickchart-complete:disabled:hover {\n",
       "    background-color: var(--disabled-bg-color);\n",
       "    fill: var(--disabled-fill-color);\n",
       "    box-shadow: none;\n",
       "  }\n",
       "\n",
       "  .colab-df-spinner {\n",
       "    border: 2px solid var(--fill-color);\n",
       "    border-color: transparent;\n",
       "    border-bottom-color: var(--fill-color);\n",
       "    animation:\n",
       "      spin 1s steps(1) infinite;\n",
       "  }\n",
       "\n",
       "  @keyframes spin {\n",
       "    0% {\n",
       "      border-color: transparent;\n",
       "      border-bottom-color: var(--fill-color);\n",
       "      border-left-color: var(--fill-color);\n",
       "    }\n",
       "    20% {\n",
       "      border-color: transparent;\n",
       "      border-left-color: var(--fill-color);\n",
       "      border-top-color: var(--fill-color);\n",
       "    }\n",
       "    30% {\n",
       "      border-color: transparent;\n",
       "      border-left-color: var(--fill-color);\n",
       "      border-top-color: var(--fill-color);\n",
       "      border-right-color: var(--fill-color);\n",
       "    }\n",
       "    40% {\n",
       "      border-color: transparent;\n",
       "      border-right-color: var(--fill-color);\n",
       "      border-top-color: var(--fill-color);\n",
       "    }\n",
       "    60% {\n",
       "      border-color: transparent;\n",
       "      border-right-color: var(--fill-color);\n",
       "    }\n",
       "    80% {\n",
       "      border-color: transparent;\n",
       "      border-right-color: var(--fill-color);\n",
       "      border-bottom-color: var(--fill-color);\n",
       "    }\n",
       "    90% {\n",
       "      border-color: transparent;\n",
       "      border-bottom-color: var(--fill-color);\n",
       "    }\n",
       "  }\n",
       "</style>\n",
       "\n",
       "  <script>\n",
       "    async function quickchart(key) {\n",
       "      const quickchartButtonEl =\n",
       "        document.querySelector('#' + key + ' button');\n",
       "      quickchartButtonEl.disabled = true;  // To prevent multiple clicks.\n",
       "      quickchartButtonEl.classList.add('colab-df-spinner');\n",
       "      try {\n",
       "        const charts = await google.colab.kernel.invokeFunction(\n",
       "            'suggestCharts', [key], {});\n",
       "      } catch (error) {\n",
       "        console.error('Error during call to suggestCharts:', error);\n",
       "      }\n",
       "      quickchartButtonEl.classList.remove('colab-df-spinner');\n",
       "      quickchartButtonEl.classList.add('colab-df-quickchart-complete');\n",
       "    }\n",
       "    (() => {\n",
       "      let quickchartButtonEl =\n",
       "        document.querySelector('#df-ec26c9cd-cb04-4092-b812-ad59feea8b4c button');\n",
       "      quickchartButtonEl.style.display =\n",
       "        google.colab.kernel.accessAllowed ? 'block' : 'none';\n",
       "    })();\n",
       "  </script>\n",
       "</div>\n",
       "\n",
       "    </div>\n",
       "  </div>\n"
      ],
      "text/plain": [
       "   Soil Moisture  Temperature  Air Humidity\n",
       "0      33.157096    29.184908     71.789699\n",
       "1      60.061430    33.707205     77.977391\n",
       "2      35.572622    24.760311     60.776282\n",
       "3      17.602174    32.738515     59.323543\n",
       "4      59.511308    25.692744     66.624914\n",
       "5      52.343966    33.806809     47.774693\n",
       "6      19.759850    32.659495     40.317592\n",
       "7      28.982912    38.083939     50.915951\n",
       "8       8.121605    35.430747     60.822721\n",
       "9      38.573048    34.232923     42.994402"
      ]
     },
     "execution_count": 9,
     "metadata": {},
     "output_type": "execute_result"
    }
   ],
   "source": [
    "df.head(10)\n"
   ]
  },
  {
   "cell_type": "code",
   "execution_count": 10,
   "metadata": {
    "id": "FBCQMzPKPkt5"
   },
   "outputs": [],
   "source": [
    "# # Assuming the dataset is sampled at regular intervals\n",
    "# df['Time'] = pd.date_range(start='2023-01-01', periods=len(df), freq='5H')"
   ]
  },
  {
   "cell_type": "code",
   "execution_count": 78,
   "metadata": {
    "id": "2HKVWfKCQt9e"
   },
   "outputs": [],
   "source": [
    "# df.head(10)"
   ]
  },
  {
   "cell_type": "markdown",
   "metadata": {
    "id": "jbIhPxVKKpPF"
   },
   "source": [
    "If the sensor value is more than 600 but less than 1000 then the soil is dry. -> 1% to 42% increase water <br>\n",
    "If the sensor value is 370 to 600 then the soil is humid. 42% to 63% level of water is good <br>\n",
    "If the sensor value is less than 370 then the sensor in the water. -> 63% to 99%  water wasted"
   ]
  },
  {
   "cell_type": "code",
   "execution_count": 81,
   "metadata": {
    "id": "DgXPX1tcP2D1"
   },
   "outputs": [],
   "source": [
    "# Set thresholds\n",
    "soil_moisture_threshold = 42\n",
    "temperature_threshold = 25\n",
    "humidity_threshold = 50"
   ]
  },
  {
   "cell_type": "code",
   "execution_count": 82,
   "metadata": {
    "id": "RU09CHbAT0zw"
   },
   "outputs": [],
   "source": [
    "#labeling\n",
    "# Define function to label the data\n",
    "def label_data(row):\n",
    "    if row['Soil Moisture'] < soil_moisture_threshold:\n",
    "        return 1  # Increase water\n",
    "    elif row['Soil Moisture'] > soil_moisture_threshold and row['Temperature'] > temperature_threshold and row['Air Humidity'] < humidity_threshold:\n",
    "        return 2  # Decrease water\n",
    "    else:\n",
    "        return 0  # Water wasted\n",
    "\n",
    "\n",
    "# Apply function to label the data\n",
    "df['Water_Status'] = df.apply(label_data, axis=1)\n",
    "\n",
    "# Features and target\n",
    "X = df[['Soil Moisture', 'Temperature', 'Air Humidity']]\n",
    "y = df['Water_Status']"
   ]
  },
  {
   "cell_type": "markdown",
   "metadata": {
    "id": "5EWOmZoSRvgd"
   },
   "source": [
    "# Exploratory Data Analysis (EDA):"
   ]
  },
  {
   "cell_type": "markdown",
   "metadata": {
    "id": "T5WSMfabSKGC"
   },
   "source": [
    "### Visualize distributions of each feature"
   ]
  },
  {
   "cell_type": "code",
   "execution_count": 83,
   "metadata": {
    "id": "tMY6rxzwQwOb"
   },
   "outputs": [],
   "source": [
    "# Set plot style\n",
    "sns.set(style=\"whitegrid\")"
   ]
  },
  {
   "cell_type": "code",
   "execution_count": 84,
   "metadata": {
    "colab": {
     "base_uri": "https://localhost:8080/",
     "height": 754
    },
    "id": "Q1IEoIpQRzqQ",
    "outputId": "b32f33d4-6cd0-4a53-caa7-2c2f2a594818"
   },
   "outputs": [
    {
     "data": {
      "image/png": "[encoded data removed]",
      "text/plain": [
       "<Figure size 1500x1000 with 4 Axes>"
      ]
     },
     "metadata": {},
     "output_type": "display_data"
    }
   ],
   "source": [
    "# Visualize distributions of each feature\n",
    "fig, axs = plt.subplots(2, 2, figsize=(15, 10))\n",
    "sns.histplot(df['Soil Moisture'], bins=30, kde=True, ax=axs[0, 0]).set_title('Distribution of Soil Moisture')\n",
    "sns.histplot(df['Temperature'], bins=30, kde=True, ax=axs[0, 1]).set_title('Distribution of Temperature')\n",
    "sns.histplot(df['Air Humidity'], bins=30, kde=True, ax=axs[1, 0]).set_title('Distribution of Air Humidity')\n",
    "# sns.histplot(df['Pump Data'], bins=2, kde=False, ax=axs[1, 1]).set_title('Distribution of Pump Data')\n",
    "\n",
    "plt.tight_layout()\n",
    "plt.show()"
   ]
  },
  {
   "cell_type": "markdown",
   "metadata": {
    "id": "nR96-sg7SDvu"
   },
   "source": [
    "### Check for correlations"
   ]
  },
  {
   "cell_type": "code",
   "execution_count": 85,
   "metadata": {
    "colab": {
     "base_uri": "https://localhost:8080/",
     "height": 549
    },
    "id": "SjEeBJn6SHKl",
    "outputId": "bd4cf593-0995-489b-cb2f-aea17f37384a"
   },
   "outputs": [
    {
     "data": {
      "image/png": "[encoded data removed]",
      "text/plain": [
       "<Figure size 1000x600 with 2 Axes>"
      ]
     },
     "metadata": {},
     "output_type": "display_data"
    }
   ],
   "source": [
    "correlation_matrix = df[['Soil Moisture', 'Temperature', 'Air Humidity']].corr()\n",
    "plt.figure(figsize=(10, 6))\n",
    "sns.heatmap(correlation_matrix, annot=True, cmap='coolwarm', linewidths=0.5)\n",
    "plt.title('Correlation Matrix')\n",
    "plt.show()"
   ]
  },
  {
   "cell_type": "code",
   "execution_count": 41,
   "metadata": {
    "id": "EpnsGY-hSZ4n"
   },
   "outputs": [],
   "source": [
    "# # Plot trends over time\n",
    "# fig, axs = plt.subplots(3, 1, figsize=(15, 12), sharex=True)\n",
    "\n",
    "# sns.lineplot(x='Time', y='Soil Moisture', data=df, ax=axs[0]).set_title('Soil Moisture Over Time')\n",
    "# sns.lineplot(x='Time', y='Temperature', data=df, ax=axs[1]).set_title('Temperature Over Time')\n",
    "# sns.lineplot(x='Time', y='Air Humidity', data=df, ax=axs[2]).set_title('Air Humidity Over Time')\n",
    "# # sns.lineplot(x='Time', y='Pump Data', data=df, ax=axs[3]).set_title('Pump Data Over Time')\n",
    "\n",
    "# plt.tight_layout()\n",
    "# plt.show()"
   ]
  },
  {
   "cell_type": "code",
   "execution_count": 86,
   "metadata": {
    "colab": {
     "base_uri": "https://localhost:8080/",
     "height": 143
    },
    "id": "d8KUJRzlSja8",
    "outputId": "937dc83f-7460-4164-a475-09df19b39535"
   },
   "outputs": [
    {
     "data": {
      "application/vnd.google.colaboratory.intrinsic+json": {
       "summary": "{\n  \"name\": \"correlation_matrix\",\n  \"rows\": 3,\n  \"fields\": [\n    {\n      \"column\": \"Soil Moisture\",\n      \"properties\": {\n        \"dtype\": \"number\",\n        \"std\": 0.5751529652951871,\n        \"min\": -0.005747527549207205,\n        \"max\": 1.0,\n        \"num_unique_values\": 3,\n        \"samples\": [\n          1.0,\n          0.013642282422343511,\n          -0.005747527549207205\n        ],\n        \"semantic_type\": \"\",\n        \"description\": \"\"\n      }\n    },\n    {\n      \"column\": \"Temperature\",\n      \"properties\": {\n        \"dtype\": \"number\",\n        \"std\": 0.5725329860055514,\n        \"min\": 0.003128874122877545,\n        \"max\": 1.0,\n        \"num_unique_values\": 3,\n        \"samples\": [\n          0.013642282422343511,\n          1.0,\n          0.003128874122877545\n        ],\n        \"semantic_type\": \"\",\n        \"description\": \"\"\n      }\n    },\n    {\n      \"column\": \"Air Humidity\",\n      \"properties\": {\n        \"dtype\": \"number\",\n        \"std\": 0.5781232454078612,\n        \"min\": -0.005747527549207205,\n        \"max\": 1.0,\n        \"num_unique_values\": 3,\n        \"samples\": [\n          -0.005747527549207205,\n          0.003128874122877545,\n          1.0\n        ],\n        \"semantic_type\": \"\",\n        \"description\": \"\"\n      }\n    }\n  ]\n}",
       "type": "dataframe",
       "variable_name": "correlation_matrix"
      },
      "text/html": [
       "\n",
       "  <div id=\"df-d057d5ae-5141-40a2-9a7b-33d7900fba84\" class=\"colab-df-container\">\n",
       "    <div>\n",
       "<style scoped>\n",
       "    .dataframe tbody tr th:only-of-type {\n",
       "        vertical-align: middle;\n",
       "    }\n",
       "\n",
       "    .dataframe tbody tr th {\n",
       "        vertical-align: top;\n",
       "    }\n",
       "\n",
       "    .dataframe thead th {\n",
       "        text-align: right;\n",
       "    }\n",
       "</style>\n",
       "<table border=\"1\" class=\"dataframe\">\n",
       "  <thead>\n",
       "    <tr style=\"text-align: right;\">\n",
       "      <th></th>\n",
       "      <th>Soil Moisture</th>\n",
       "      <th>Temperature</th>\n",
       "      <th>Air Humidity</th>\n",
       "    </tr>\n",
       "  </thead>\n",
       "  <tbody>\n",
       "    <tr>\n",
       "      <th>Soil Moisture</th>\n",
       "      <td>1.000000</td>\n",
       "      <td>0.013642</td>\n",
       "      <td>-0.005748</td>\n",
       "    </tr>\n",
       "    <tr>\n",
       "      <th>Temperature</th>\n",
       "      <td>0.013642</td>\n",
       "      <td>1.000000</td>\n",
       "      <td>0.003129</td>\n",
       "    </tr>\n",
       "    <tr>\n",
       "      <th>Air Humidity</th>\n",
       "      <td>-0.005748</td>\n",
       "      <td>0.003129</td>\n",
       "      <td>1.000000</td>\n",
       "    </tr>\n",
       "  </tbody>\n",
       "</table>\n",
       "</div>\n",
       "    <div class=\"colab-df-buttons\">\n",
       "\n",
       "  <div class=\"colab-df-container\">\n",
       "    <button class=\"colab-df-convert\" onclick=\"convertToInteractive('df-d057d5ae-5141-40a2-9a7b-33d7900fba84')\"\n",
       "            title=\"Convert this dataframe to an interactive table.\"\n",
       "            style=\"display:none;\">\n",
       "\n",
       "  <svg xmlns=\"http://www.w3.org/2000/svg\" height=\"24px\" viewBox=\"0 -960 960 960\">\n",
       "    <path d=\"M120-120v-720h720v720H120Zm60-500h600v-160H180v160Zm220 220h160v-160H400v160Zm0 220h160v-160H400v160ZM180-400h160v-160H180v160Zm440 0h160v-160H620v160ZM180-180h160v-160H180v160Zm440 0h160v-160H620v160Z\"/>\n",
       "  </svg>\n",
       "    </button>\n",
       "\n",
       "  <style>\n",
       "    .colab-df-container {\n",
       "      display:flex;\n",
       "      gap: 12px;\n",
       "    }\n",
       "\n",
       "    .colab-df-convert {\n",
       "      background-color: #E8F0FE;\n",
       "      border: none;\n",
       "      border-radius: 50%;\n",
       "      cursor: pointer;\n",
       "      display: none;\n",
       "      fill: #1967D2;\n",
       "      height: 32px;\n",
       "      padding: 0 0 0 0;\n",
       "      width: 32px;\n",
       "    }\n",
       "\n",
       "    .colab-df-convert:hover {\n",
       "      background-color: #E2EBFA;\n",
       "      box-shadow: 0px 1px 2px rgba(60, 64, 67, 0.3), 0px 1px 3px 1px rgba(60, 64, 67, 0.15);\n",
       "      fill: #174EA6;\n",
       "    }\n",
       "\n",
       "    .colab-df-buttons div {\n",
       "      margin-bottom: 4px;\n",
       "    }\n",
       "\n",
       "    [theme=dark] .colab-df-convert {\n",
       "      background-color: #3B4455;\n",
       "      fill: #D2E3FC;\n",
       "    }\n",
       "\n",
       "    [theme=dark] .colab-df-convert:hover {\n",
       "      background-color: #434B5C;\n",
       "      box-shadow: 0px 1px 3px 1px rgba(0, 0, 0, 0.15);\n",
       "      filter: drop-shadow(0px 1px 2px rgba(0, 0, 0, 0.3));\n",
       "      fill: #FFFFFF;\n",
       "    }\n",
       "  </style>\n",
       "\n",
       "    <script>\n",
       "      const buttonEl =\n",
       "        document.querySelector('#df-d057d5ae-5141-40a2-9a7b-33d7900fba84 button.colab-df-convert');\n",
       "      buttonEl.style.display =\n",
       "        google.colab.kernel.accessAllowed ? 'block' : 'none';\n",
       "\n",
       "      async function convertToInteractive(key) {\n",
       "        const element = document.querySelector('#df-d057d5ae-5141-40a2-9a7b-33d7900fba84');\n",
       "        const dataTable =\n",
       "          await google.colab.kernel.invokeFunction('convertToInteractive',\n",
       "                                                    [key], {});\n",
       "        if (!dataTable) return;\n",
       "\n",
       "        const docLinkHtml = 'Like what you see? Visit the ' +\n",
       "          '<a target=\"_blank\" href=https://colab.research.google.com/notebooks/data_table.ipynb>data table notebook</a>'\n",
       "          + ' to learn more about interactive tables.';\n",
       "        element.innerHTML = '';\n",
       "        dataTable['output_type'] = 'display_data';\n",
       "        await google.colab.output.renderOutput(dataTable, element);\n",
       "        const docLink = document.createElement('div');\n",
       "        docLink.innerHTML = docLinkHtml;\n",
       "        element.appendChild(docLink);\n",
       "      }\n",
       "    </script>\n",
       "  </div>\n",
       "\n",
       "\n",
       "<div id=\"df-21cd4b2b-a7e4-4a1c-bf36-5ab7962e7624\">\n",
       "  <button class=\"colab-df-quickchart\" onclick=\"quickchart('df-21cd4b2b-a7e4-4a1c-bf36-5ab7962e7624')\"\n",
       "            title=\"Suggest charts\"\n",
       "            style=\"display:none;\">\n",
       "\n",
       "<svg xmlns=\"http://www.w3.org/2000/svg\" height=\"24px\"viewBox=\"0 0 24 24\"\n",
       "     width=\"24px\">\n",
       "    <g>\n",
       "        <path d=\"M19 3H5c-1.1 0-2 .9-2 2v14c0 1.1.9 2 2 2h14c1.1 0 2-.9 2-2V5c0-1.1-.9-2-2-2zM9 17H7v-7h2v7zm4 0h-2V7h2v10zm4 0h-2v-4h2v4z\"/>\n",
       "    </g>\n",
       "</svg>\n",
       "  </button>\n",
       "\n",
       "<style>\n",
       "  .colab-df-quickchart {\n",
       "      --bg-color: #E8F0FE;\n",
       "      --fill-color: #1967D2;\n",
       "      --hover-bg-color: #E2EBFA;\n",
       "      --hover-fill-color: #174EA6;\n",
       "      --disabled-fill-color: #AAA;\n",
       "      --disabled-bg-color: #DDD;\n",
       "  }\n",
       "\n",
       "  [theme=dark] .colab-df-quickchart {\n",
       "      --bg-color: #3B4455;\n",
       "      --fill-color: #D2E3FC;\n",
       "      --hover-bg-color: #434B5C;\n",
       "      --hover-fill-color: #FFFFFF;\n",
       "      --disabled-bg-color: #3B4455;\n",
       "      --disabled-fill-color: #666;\n",
       "  }\n",
       "\n",
       "  .colab-df-quickchart {\n",
       "    background-color: var(--bg-color);\n",
       "    border: none;\n",
       "    border-radius: 50%;\n",
       "    cursor: pointer;\n",
       "    display: none;\n",
       "    fill: var(--fill-color);\n",
       "    height: 32px;\n",
       "    padding: 0;\n",
       "    width: 32px;\n",
       "  }\n",
       "\n",
       "  .colab-df-quickchart:hover {\n",
       "    background-color: var(--hover-bg-color);\n",
       "    box-shadow: 0 1px 2px rgba(60, 64, 67, 0.3), 0 1px 3px 1px rgba(60, 64, 67, 0.15);\n",
       "    fill: var(--button-hover-fill-color);\n",
       "  }\n",
       "\n",
       "  .colab-df-quickchart-complete:disabled,\n",
       "  .colab-df-quickchart-complete:disabled:hover {\n",
       "    background-color: var(--disabled-bg-color);\n",
       "    fill: var(--disabled-fill-color);\n",
       "    box-shadow: none;\n",
       "  }\n",
       "\n",
       "  .colab-df-spinner {\n",
       "    border: 2px solid var(--fill-color);\n",
       "    border-color: transparent;\n",
       "    border-bottom-color: var(--fill-color);\n",
       "    animation:\n",
       "      spin 1s steps(1) infinite;\n",
       "  }\n",
       "\n",
       "  @keyframes spin {\n",
       "    0% {\n",
       "      border-color: transparent;\n",
       "      border-bottom-color: var(--fill-color);\n",
       "      border-left-color: var(--fill-color);\n",
       "    }\n",
       "    20% {\n",
       "      border-color: transparent;\n",
       "      border-left-color: var(--fill-color);\n",
       "      border-top-color: var(--fill-color);\n",
       "    }\n",
       "    30% {\n",
       "      border-color: transparent;\n",
       "      border-left-color: var(--fill-color);\n",
       "      border-top-color: var(--fill-color);\n",
       "      border-right-color: var(--fill-color);\n",
       "    }\n",
       "    40% {\n",
       "      border-color: transparent;\n",
       "      border-right-color: var(--fill-color);\n",
       "      border-top-color: var(--fill-color);\n",
       "    }\n",
       "    60% {\n",
       "      border-color: transparent;\n",
       "      border-right-color: var(--fill-color);\n",
       "    }\n",
       "    80% {\n",
       "      border-color: transparent;\n",
       "      border-right-color: var(--fill-color);\n",
       "      border-bottom-color: var(--fill-color);\n",
       "    }\n",
       "    90% {\n",
       "      border-color: transparent;\n",
       "      border-bottom-color: var(--fill-color);\n",
       "    }\n",
       "  }\n",
       "</style>\n",
       "\n",
       "  <script>\n",
       "    async function quickchart(key) {\n",
       "      const quickchartButtonEl =\n",
       "        document.querySelector('#' + key + ' button');\n",
       "      quickchartButtonEl.disabled = true;  // To prevent multiple clicks.\n",
       "      quickchartButtonEl.classList.add('colab-df-spinner');\n",
       "      try {\n",
       "        const charts = await google.colab.kernel.invokeFunction(\n",
       "            'suggestCharts', [key], {});\n",
       "      } catch (error) {\n",
       "        console.error('Error during call to suggestCharts:', error);\n",
       "      }\n",
       "      quickchartButtonEl.classList.remove('colab-df-spinner');\n",
       "      quickchartButtonEl.classList.add('colab-df-quickchart-complete');\n",
       "    }\n",
       "    (() => {\n",
       "      let quickchartButtonEl =\n",
       "        document.querySelector('#df-21cd4b2b-a7e4-4a1c-bf36-5ab7962e7624 button');\n",
       "      quickchartButtonEl.style.display =\n",
       "        google.colab.kernel.accessAllowed ? 'block' : 'none';\n",
       "    })();\n",
       "  </script>\n",
       "</div>\n",
       "\n",
       "  <div id=\"id_4dd51bf3-3d92-48ca-a5ec-2a983b6a810d\">\n",
       "    <style>\n",
       "      .colab-df-generate {\n",
       "        background-color: #E8F0FE;\n",
       "        border: none;\n",
       "        border-radius: 50%;\n",
       "        cursor: pointer;\n",
       "        display: none;\n",
       "        fill: #1967D2;\n",
       "        height: 32px;\n",
       "        padding: 0 0 0 0;\n",
       "        width: 32px;\n",
       "      }\n",
       "\n",
       "      .colab-df-generate:hover {\n",
       "        background-color: #E2EBFA;\n",
       "        box-shadow: 0px 1px 2px rgba(60, 64, 67, 0.3), 0px 1px 3px 1px rgba(60, 64, 67, 0.15);\n",
       "        fill: #174EA6;\n",
       "      }\n",
       "\n",
       "      [theme=dark] .colab-df-generate {\n",
       "        background-color: #3B4455;\n",
       "        fill: #D2E3FC;\n",
       "      }\n",
       "\n",
       "      [theme=dark] .colab-df-generate:hover {\n",
       "        background-color: #434B5C;\n",
       "        box-shadow: 0px 1px 3px 1px rgba(0, 0, 0, 0.15);\n",
       "        filter: drop-shadow(0px 1px 2px rgba(0, 0, 0, 0.3));\n",
       "        fill: #FFFFFF;\n",
       "      }\n",
       "    </style>\n",
       "    <button class=\"colab-df-generate\" onclick=\"generateWithVariable('correlation_matrix')\"\n",
       "            title=\"Generate code using this dataframe.\"\n",
       "            style=\"display:none;\">\n",
       "\n",
       "  <svg xmlns=\"http://www.w3.org/2000/svg\" height=\"24px\"viewBox=\"0 0 24 24\"\n",
       "       width=\"24px\">\n",
       "    <path d=\"M7,19H8.4L18.45,9,17,7.55,7,17.6ZM5,21V16.75L18.45,3.32a2,2,0,0,1,2.83,0l1.4,1.43a1.91,1.91,0,0,1,.58,1.4,1.91,1.91,0,0,1-.58,1.4L9.25,21ZM18.45,9,17,7.55Zm-12,3A5.31,5.31,0,0,0,4.9,8.1,5.31,5.31,0,0,0,1,6.5,5.31,5.31,0,0,0,4.9,4.9,5.31,5.31,0,0,0,6.5,1,5.31,5.31,0,0,0,8.1,4.9,5.31,5.31,0,0,0,12,6.5,5.46,5.46,0,0,0,6.5,12Z\"/>\n",
       "  </svg>\n",
       "    </button>\n",
       "    <script>\n",
       "      (() => {\n",
       "      const buttonEl =\n",
       "        document.querySelector('#id_4dd51bf3-3d92-48ca-a5ec-2a983b6a810d button.colab-df-generate');\n",
       "      buttonEl.style.display =\n",
       "        google.colab.kernel.accessAllowed ? 'block' : 'none';\n",
       "\n",
       "      buttonEl.onclick = () => {\n",
       "        google.colab.notebook.generateWithVariable('correlation_matrix');\n",
       "      }\n",
       "      })();\n",
       "    </script>\n",
       "  </div>\n",
       "\n",
       "    </div>\n",
       "  </div>\n"
      ],
      "text/plain": [
       "               Soil Moisture  Temperature  Air Humidity\n",
       "Soil Moisture       1.000000     0.013642     -0.005748\n",
       "Temperature         0.013642     1.000000      0.003129\n",
       "Air Humidity       -0.005748     0.003129      1.000000"
      ]
     },
     "execution_count": 86,
     "metadata": {},
     "output_type": "execute_result"
    }
   ],
   "source": [
    "# Check for correlations\n",
    "correlation_matrix = df[['Soil Moisture', 'Temperature', 'Air Humidity']].corr()\n",
    "correlation_matrix"
   ]
  },
  {
   "cell_type": "markdown",
   "metadata": {
    "id": "T-EolYfvTYhZ"
   },
   "source": [
    "# Label Creation:"
   ]
  },
  {
   "cell_type": "code",
   "execution_count": 43,
   "metadata": {
    "id": "YsuaPQYVStcw"
   },
   "outputs": [],
   "source": [
    "# Set thresholds\n",
    "soil_moisture_threshold = 60\n",
    "temperature_threshold = 25\n",
    "humidity_threshold = 50"
   ]
  },
  {
   "cell_type": "code",
   "execution_count": 44,
   "metadata": {
    "id": "1bWx4BZMSss3"
   },
   "outputs": [],
   "source": [
    "# Define function to label the data\n",
    "def label_data(row):\n",
    "    if row['Soil Moisture'] < soil_moisture_threshold:\n",
    "        return 1  # Increase water\n",
    "    elif row['Soil Moisture'] > soil_moisture_threshold and row['Temperature'] > temperature_threshold and row['Air Humidity'] < humidity_threshold:\n",
    "        return 2  # Decrease water\n",
    "    else:\n",
    "        return 0  # Water wasted"
   ]
  },
  {
   "cell_type": "code",
   "execution_count": 45,
   "metadata": {
    "id": "nZto7op_TUCf"
   },
   "outputs": [],
   "source": [
    "# Apply function to label the data\n",
    "df['Water_Status'] = df.apply(label_data, axis=1)\n"
   ]
  },
  {
   "cell_type": "code",
   "execution_count": 21,
   "metadata": {
    "colab": {
     "base_uri": "https://localhost:8080/"
    },
    "id": "3H9jGfnoThZ0",
    "outputId": "9306c417-44e6-4099-f2a2-b75d65df26e7"
   },
   "outputs": [
    {
     "name": "stdout",
     "output_type": "stream",
     "text": [
      "   Soil Moisture  Temperature  Air Humidity  Water_Status\n",
      "0      33.157096    29.184908     71.789699             1\n",
      "1      60.061430    33.707205     77.977391             0\n",
      "2      35.572622    24.760311     60.776282             1\n",
      "3      17.602174    32.738515     59.323543             1\n",
      "4      59.511308    25.692744     66.624914             1\n",
      "5      52.343966    33.806809     47.774693             1\n",
      "6      19.759850    32.659495     40.317592             1\n",
      "7      28.982912    38.083939     50.915951             1\n",
      "8       8.121605    35.430747     60.822721             1\n",
      "9      38.573048    34.232923     42.994402             1\n"
     ]
    }
   ],
   "source": [
    "\n",
    "\n",
    "# Display the first few rows to check the labels\n",
    "print(df.head(10))"
   ]
  },
  {
   "cell_type": "markdown",
   "metadata": {
    "id": "GupGYgfWYE_a"
   },
   "source": [
    "0 for \"water wasted\"<br>\n",
    "1 for \"increase water\"<br>\n",
    "2 for \"decrease water\"\n"
   ]
  },
  {
   "cell_type": "markdown",
   "metadata": {
    "id": "6JrtH7UPY21z"
   },
   "source": [
    "# Classification Model:"
   ]
  },
  {
   "cell_type": "markdown",
   "metadata": {
    "id": "GVYWQnWtZASy"
   },
   "source": [
    "### Prepare the data: Split the data into features (X) and the target variable (y)"
   ]
  },
  {
   "cell_type": "code",
   "execution_count": 22,
   "metadata": {
    "id": "0M5951UuZQlM"
   },
   "outputs": [],
   "source": [
    "import pandas as pd\n",
    "from sklearn.model_selection import train_test_split\n",
    "from sklearn.ensemble import RandomForestClassifier\n",
    "from sklearn.metrics import classification_report, confusion_matrix\n",
    "\n",
    "from sklearn.model_selection import train_test_split, cross_val_score, StratifiedKFold\n",
    "from sklearn.tree import DecisionTreeClassifier\n",
    "from sklearn.ensemble import RandomForestClassifier, GradientBoostingClassifier\n",
    "from sklearn.metrics import classification_report, confusion_matrix, accuracy_score, precision_score, recall_score, f1_score\n",
    "from sklearn.neural_network import MLPClassifier"
   ]
  },
  {
   "cell_type": "code",
   "execution_count": 23,
   "metadata": {
    "id": "AB76VqdmZJio"
   },
   "outputs": [],
   "source": [
    "# Prepare the data\n",
    "X = df[['Soil Moisture', 'Temperature', 'Air Humidity']]\n",
    "y = df['Water_Status']"
   ]
  },
  {
   "cell_type": "code",
   "execution_count": 24,
   "metadata": {
    "id": "ubbJEwWfYGGa"
   },
   "outputs": [],
   "source": [
    "# Split the data into training and testing sets\n",
    "X_train, X_test, y_train, y_test = train_test_split(X, y, test_size=0.3, random_state=42)\n"
   ]
  },
  {
   "cell_type": "code",
   "execution_count": 25,
   "metadata": {
    "id": "s8qfkbCAZUBA"
   },
   "outputs": [],
   "source": [
    "# Define models\n",
    "models = {\n",
    "    \"Decision Tree\": DecisionTreeClassifier(random_state=42),\n",
    "    \"Random Forest\": RandomForestClassifier(n_estimators=100, random_state=42),\n",
    "    \"Gradient Boosting\": GradientBoostingClassifier(n_estimators=100, random_state=42),\n",
    "    \"Neural Network\": MLPClassifier(hidden_layer_sizes=(100,), max_iter=500, random_state=42)\n",
    "}"
   ]
  },
  {
   "cell_type": "code",
   "execution_count": 26,
   "metadata": {
    "id": "oYFe42IhbcZO"
   },
   "outputs": [],
   "source": [
    "# Initialize results dictionary\n",
    "results = {}\n",
    "\n",
    "# Define cross-validation strategy\n",
    "cv = StratifiedKFold(n_splits=5, shuffle=True, random_state=42)  # Use StratifiedKFold\n"
   ]
  },
  {
   "cell_type": "code",
   "execution_count": 27,
   "metadata": {
    "id": "VOytvocRZeJM"
   },
   "outputs": [],
   "source": [
    "for model_name, model in models.items():\n",
    "    cv_results = cross_val_score(model, X_train, y_train, cv=cv, scoring='accuracy')\n",
    "    model.fit(X_train, y_train)\n",
    "    y_pred = model.predict(X_test)\n",
    "\n",
    "    results[model_name] = {\n",
    "        \"Cross-Validation Accuracy\": np.mean(cv_results),\n",
    "        \"Test Accuracy\": accuracy_score(y_test, y_pred),\n",
    "        \"Precision\": precision_score(y_test, y_pred, average='weighted'),\n",
    "        \"Recall\": recall_score(y_test, y_pred, average='weighted'),\n",
    "        \"F1 Score\": f1_score(y_test, y_pred, average='weighted'),\n",
    "        \"Confusion Matrix\": confusion_matrix(y_test, y_pred),\n",
    "        \"Classification Report\": classification_report(y_test, y_pred)\n",
    "    }\n"
   ]
  },
  {
   "cell_type": "code",
   "execution_count": 28,
   "metadata": {
    "colab": {
     "base_uri": "https://localhost:8080/"
    },
    "id": "UdWC8H5kZg2o",
    "outputId": "b0c32536-db87-43f7-fe4a-950ed7e9c1a6"
   },
   "outputs": [
    {
     "name": "stdout",
     "output_type": "stream",
     "text": [
      "Model: Decision Tree\n",
      "Cross-Validation Accuracy: 0.9985714285714286\n",
      "Test Accuracy: 0.9977777777777778\n",
      "Precision: 0.997830065359477\n",
      "Recall: 0.9977777777777778\n",
      "F1 Score: 0.9977256458138812\n",
      "Confusion Matrix:\n",
      "[[ 83   0   0]\n",
      " [  0 799   0]\n",
      " [  2   0  16]]\n",
      "Classification Report:\n",
      "              precision    recall  f1-score   support\n",
      "\n",
      "           0       0.98      1.00      0.99        83\n",
      "           1       1.00      1.00      1.00       799\n",
      "           2       1.00      0.89      0.94        18\n",
      "\n",
      "    accuracy                           1.00       900\n",
      "   macro avg       0.99      0.96      0.98       900\n",
      "weighted avg       1.00      1.00      1.00       900\n",
      "\n",
      "\n",
      "\n",
      "Model: Random Forest\n",
      "Cross-Validation Accuracy: 0.9990476190476191\n",
      "Test Accuracy: 0.9977777777777778\n",
      "Precision: 0.997830065359477\n",
      "Recall: 0.9977777777777778\n",
      "F1 Score: 0.9977256458138812\n",
      "Confusion Matrix:\n",
      "[[ 83   0   0]\n",
      " [  0 799   0]\n",
      " [  2   0  16]]\n",
      "Classification Report:\n",
      "              precision    recall  f1-score   support\n",
      "\n",
      "           0       0.98      1.00      0.99        83\n",
      "           1       1.00      1.00      1.00       799\n",
      "           2       1.00      0.89      0.94        18\n",
      "\n",
      "    accuracy                           1.00       900\n",
      "   macro avg       0.99      0.96      0.98       900\n",
      "weighted avg       1.00      1.00      1.00       900\n",
      "\n",
      "\n",
      "\n",
      "Model: Gradient Boosting\n",
      "Cross-Validation Accuracy: 0.9976190476190476\n",
      "Test Accuracy: 0.9977777777777778\n",
      "Precision: 0.997830065359477\n",
      "Recall: 0.9977777777777778\n",
      "F1 Score: 0.9977256458138812\n",
      "Confusion Matrix:\n",
      "[[ 83   0   0]\n",
      " [  0 799   0]\n",
      " [  2   0  16]]\n",
      "Classification Report:\n",
      "              precision    recall  f1-score   support\n",
      "\n",
      "           0       0.98      1.00      0.99        83\n",
      "           1       1.00      1.00      1.00       799\n",
      "           2       1.00      0.89      0.94        18\n",
      "\n",
      "    accuracy                           1.00       900\n",
      "   macro avg       0.99      0.96      0.98       900\n",
      "weighted avg       1.00      1.00      1.00       900\n",
      "\n",
      "\n",
      "\n",
      "Model: Neural Network\n",
      "Cross-Validation Accuracy: 0.9252380952380953\n",
      "Test Accuracy: 0.9033333333333333\n",
      "Precision: 0.9352252252252252\n",
      "Recall: 0.9033333333333333\n",
      "F1 Score: 0.9137421413616346\n",
      "Confusion Matrix:\n",
      "[[ 71  10   2]\n",
      " [ 65 730   4]\n",
      " [  6   0  12]]\n",
      "Classification Report:\n",
      "              precision    recall  f1-score   support\n",
      "\n",
      "           0       0.50      0.86      0.63        83\n",
      "           1       0.99      0.91      0.95       799\n",
      "           2       0.67      0.67      0.67        18\n",
      "\n",
      "    accuracy                           0.90       900\n",
      "   macro avg       0.72      0.81      0.75       900\n",
      "weighted avg       0.94      0.90      0.91       900\n",
      "\n",
      "\n",
      "\n"
     ]
    }
   ],
   "source": [
    "# Display results\n",
    "for model_name, metrics in results.items():\n",
    "    print(f\"Model: {model_name}\")\n",
    "    print(f\"Cross-Validation Accuracy: {metrics['Cross-Validation Accuracy']}\")\n",
    "    print(f\"Test Accuracy: {metrics['Test Accuracy']}\")\n",
    "    print(f\"Precision: {metrics['Precision']}\")\n",
    "    print(f\"Recall: {metrics['Recall']}\")\n",
    "    print(f\"F1 Score: {metrics['F1 Score']}\")\n",
    "    print(\"Confusion Matrix:\")\n",
    "    print(metrics[\"Confusion Matrix\"])\n",
    "    print(\"Classification Report:\")\n",
    "    print(metrics[\"Classification Report\"])\n",
    "    print(\"\\n\")"
   ]
  },
  {
   "cell_type": "code",
   "execution_count": 29,
   "metadata": {
    "colab": {
     "base_uri": "https://localhost:8080/"
    },
    "id": "r6U_ICLHcFnu",
    "outputId": "a2ea3ba8-4cb0-4124-d808-91a9a792f213"
   },
   "outputs": [
    {
     "name": "stdout",
     "output_type": "stream",
     "text": [
      "Number of duplicate rows: 0\n"
     ]
    }
   ],
   "source": [
    "# Check for duplicate rows\n",
    "duplicate_rows = df.duplicated().sum()\n",
    "print(f\"Number of duplicate rows: {duplicate_rows}\")"
   ]
  },
  {
   "cell_type": "code",
   "execution_count": 30,
   "metadata": {
    "colab": {
     "base_uri": "https://localhost:8080/"
    },
    "id": "MJ4HpyH7cHy1",
    "outputId": "15730b46-6c9d-4adf-a5b1-114dd034444a"
   },
   "outputs": [
    {
     "name": "stdout",
     "output_type": "stream",
     "text": [
      "Label distribution:\n",
      "Water_Status\n",
      "1    2657\n",
      "0     291\n",
      "2      52\n",
      "Name: count, dtype: int64\n"
     ]
    }
   ],
   "source": [
    "# Check label distribution\n",
    "label_distribution = df['Water_Status'].value_counts()\n",
    "print(\"Label distribution:\")\n",
    "print(label_distribution)"
   ]
  },
  {
   "cell_type": "code",
   "execution_count": 31,
   "metadata": {
    "id": "yezFD3tCg8BO"
   },
   "outputs": [],
   "source": [
    "# !pip uninstall scikit-learn -y\n",
    "# !pip install scikit-learn==1.2.2\n",
    "\n"
   ]
  },
  {
   "cell_type": "code",
   "execution_count": 32,
   "metadata": {
    "id": "VFmgQcnncKA6"
   },
   "outputs": [],
   "source": [
    "from sklearn.model_selection import GridSearchCV\n"
   ]
  },
  {
   "cell_type": "code",
   "execution_count": 33,
   "metadata": {
    "colab": {
     "base_uri": "https://localhost:8080/",
     "height": 74
    },
    "id": "APlgXTZqcR7m",
    "outputId": "db1542e2-9a4f-4f6b-e428-9302ad336aa0"
   },
   "outputs": [
    {
     "data": {
      "text/html": [
       "<style>#sk-container-id-1 {color: black;background-color: white;}#sk-container-id-1 pre{padding: 0;}#sk-container-id-1 div.sk-toggleable {background-color: white;}#sk-container-id-1 label.sk-toggleable__label {cursor: pointer;display: block;width: 100%;margin-bottom: 0;padding: 0.3em;box-sizing: border-box;text-align: center;}#sk-container-id-1 label.sk-toggleable__label-arrow:before {content: \"▸\";float: left;margin-right: 0.25em;color: #696969;}#sk-container-id-1 label.sk-toggleable__label-arrow:hover:before {color: black;}#sk-container-id-1 div.sk-estimator:hover label.sk-toggleable__label-arrow:before {color: black;}#sk-container-id-1 div.sk-toggleable__content {max-height: 0;max-width: 0;overflow: hidden;text-align: left;background-color: #f0f8ff;}#sk-container-id-1 div.sk-toggleable__content pre {margin: 0.2em;color: black;border-radius: 0.25em;background-color: #f0f8ff;}#sk-container-id-1 input.sk-toggleable__control:checked~div.sk-toggleable__content {max-height: 200px;max-width: 100%;overflow: auto;}#sk-container-id-1 input.sk-toggleable__control:checked~label.sk-toggleable__label-arrow:before {content: \"▾\";}#sk-container-id-1 div.sk-estimator input.sk-toggleable__control:checked~label.sk-toggleable__label {background-color: #d4ebff;}#sk-container-id-1 div.sk-label input.sk-toggleable__control:checked~label.sk-toggleable__label {background-color: #d4ebff;}#sk-container-id-1 input.sk-hidden--visually {border: 0;clip: rect(1px 1px 1px 1px);clip: rect(1px, 1px, 1px, 1px);height: 1px;margin: -1px;overflow: hidden;padding: 0;position: absolute;width: 1px;}#sk-container-id-1 div.sk-estimator {font-family: monospace;background-color: #f0f8ff;border: 1px dotted black;border-radius: 0.25em;box-sizing: border-box;margin-bottom: 0.5em;}#sk-container-id-1 div.sk-estimator:hover {background-color: #d4ebff;}#sk-container-id-1 div.sk-parallel-item::after {content: \"\";width: 100%;border-bottom: 1px solid gray;flex-grow: 1;}#sk-container-id-1 div.sk-label:hover label.sk-toggleable__label {background-color: #d4ebff;}#sk-container-id-1 div.sk-serial::before {content: \"\";position: absolute;border-left: 1px solid gray;box-sizing: border-box;top: 0;bottom: 0;left: 50%;z-index: 0;}#sk-container-id-1 div.sk-serial {display: flex;flex-direction: column;align-items: center;background-color: white;padding-right: 0.2em;padding-left: 0.2em;position: relative;}#sk-container-id-1 div.sk-item {position: relative;z-index: 1;}#sk-container-id-1 div.sk-parallel {display: flex;align-items: stretch;justify-content: center;background-color: white;position: relative;}#sk-container-id-1 div.sk-item::before, #sk-container-id-1 div.sk-parallel-item::before {content: \"\";position: absolute;border-left: 1px solid gray;box-sizing: border-box;top: 0;bottom: 0;left: 50%;z-index: -1;}#sk-container-id-1 div.sk-parallel-item {display: flex;flex-direction: column;z-index: 1;position: relative;background-color: white;}#sk-container-id-1 div.sk-parallel-item:first-child::after {align-self: flex-end;width: 50%;}#sk-container-id-1 div.sk-parallel-item:last-child::after {align-self: flex-start;width: 50%;}#sk-container-id-1 div.sk-parallel-item:only-child::after {width: 0;}#sk-container-id-1 div.sk-dashed-wrapped {border: 1px dashed gray;margin: 0 0.4em 0.5em 0.4em;box-sizing: border-box;padding-bottom: 0.4em;background-color: white;}#sk-container-id-1 div.sk-label label {font-family: monospace;font-weight: bold;display: inline-block;line-height: 1.2em;}#sk-container-id-1 div.sk-label-container {text-align: center;}#sk-container-id-1 div.sk-container {/* jupyter's `normalize.less` sets `[hidden] { display: none; }` but bootstrap.min.css set `[hidden] { display: none !important; }` so we also need the `!important` here to be able to override the default hidden behavior on the sphinx rendered scikit-learn.org. See: https://github.com/scikit-learn/scikit-learn/issues/21755 */display: inline-block !important;position: relative;}#sk-container-id-1 div.sk-text-repr-fallback {display: none;}</style><div id=\"sk-container-id-1\" class=\"sk-top-container\"><div class=\"sk-text-repr-fallback\"><pre>RandomForestClassifier(random_state=42)</pre><b>In a Jupyter environment, please rerun this cell to show the HTML representation or trust the notebook. <br />On GitHub, the HTML representation is unable to render, please try loading this page with nbviewer.org.</b></div><div class=\"sk-container\" hidden><div class=\"sk-item\"><div class=\"sk-estimator sk-toggleable\"><input class=\"sk-toggleable__control sk-hidden--visually\" id=\"sk-estimator-id-1\" type=\"checkbox\" checked><label for=\"sk-estimator-id-1\" class=\"sk-toggleable__label sk-toggleable__label-arrow\">RandomForestClassifier</label><div class=\"sk-toggleable__content\"><pre>RandomForestClassifier(random_state=42)</pre></div></div></div></div></div>"
      ],
      "text/plain": [
       "RandomForestClassifier(random_state=42)"
      ]
     },
     "execution_count": 33,
     "metadata": {},
     "output_type": "execute_result"
    }
   ],
   "source": [
    "# Check feature importance for Random Forest\n",
    "rf = RandomForestClassifier(n_estimators=100, random_state=42)\n",
    "rf.fit(X_train, y_train)"
   ]
  },
  {
   "cell_type": "code",
   "execution_count": 34,
   "metadata": {
    "colab": {
     "base_uri": "https://localhost:8080/"
    },
    "id": "sja8Nl3OcUJ0",
    "outputId": "9b717837-19d9-419b-a454-c722f2b6f8c5"
   },
   "outputs": [
    {
     "name": "stdout",
     "output_type": "stream",
     "text": [
      "Feature Importance:\n",
      "               Importance\n",
      "Soil Moisture    0.879352\n",
      "Temperature      0.044861\n",
      "Air Humidity     0.075787\n"
     ]
    }
   ],
   "source": [
    "feature_importance = pd.DataFrame(rf.feature_importances_, index=X.columns, columns=['Importance'])\n",
    "print(\"Feature Importance:\")\n",
    "print(feature_importance)"
   ]
  },
  {
   "cell_type": "code",
   "execution_count": 35,
   "metadata": {
    "colab": {
     "base_uri": "https://localhost:8080/",
     "height": 573
    },
    "id": "ttmnMRG3XaVh",
    "outputId": "be60bd9a-5c8c-4ffd-892b-351ad7508080"
   },
   "outputs": [
    {
     "data": {
      "image/png": "[encoded data removed]",
      "text/plain": [
       "<Figure size 1000x600 with 1 Axes>"
      ]
     },
     "metadata": {},
     "output_type": "display_data"
    }
   ],
   "source": [
    "# Create a DataFrame for feature importances\n",
    "feature_importance = pd.DataFrame(rf.feature_importances_, index=X.columns, columns=['Importance'])\n",
    "\n",
    "# Plot the feature importances\n",
    "plt.figure(figsize=(10, 6))\n",
    "sns.barplot(x=feature_importance['Importance'], y=feature_importance.index, palette='viridis')\n",
    "plt.title('Feature Importance')\n",
    "plt.xlabel('Importance')\n",
    "plt.ylabel('Feature')\n",
    "plt.show()"
   ]
  },
  {
   "cell_type": "code",
   "execution_count": 36,
   "metadata": {
    "id": "rgnsh0EncWKT"
   },
   "outputs": [],
   "source": [
    "# Hyperparameter tuning for Random Forest\n",
    "param_grid = {\n",
    "    'n_estimators': [100, 200, 300],\n",
    "    'max_depth': [10, 20, 30],\n",
    "    'min_samples_split': [2, 5, 10],\n",
    "    'min_samples_leaf': [1, 2, 4]\n",
    "}"
   ]
  },
  {
   "cell_type": "code",
   "execution_count": 37,
   "metadata": {
    "colab": {
     "base_uri": "https://localhost:8080/",
     "height": 134
    },
    "id": "mUo36IWPcYVP",
    "outputId": "ed81e8e5-9adc-44c5-d4ff-39cadcd10be8"
   },
   "outputs": [
    {
     "name": "stdout",
     "output_type": "stream",
     "text": [
      "Fitting 3 folds for each of 81 candidates, totalling 243 fits\n"
     ]
    },
    {
     "data": {
      "text/html": [
       "<style>#sk-container-id-2 {color: black;background-color: white;}#sk-container-id-2 pre{padding: 0;}#sk-container-id-2 div.sk-toggleable {background-color: white;}#sk-container-id-2 label.sk-toggleable__label {cursor: pointer;display: block;width: 100%;margin-bottom: 0;padding: 0.3em;box-sizing: border-box;text-align: center;}#sk-container-id-2 label.sk-toggleable__label-arrow:before {content: \"▸\";float: left;margin-right: 0.25em;color: #696969;}#sk-container-id-2 label.sk-toggleable__label-arrow:hover:before {color: black;}#sk-container-id-2 div.sk-estimator:hover label.sk-toggleable__label-arrow:before {color: black;}#sk-container-id-2 div.sk-toggleable__content {max-height: 0;max-width: 0;overflow: hidden;text-align: left;background-color: #f0f8ff;}#sk-container-id-2 div.sk-toggleable__content pre {margin: 0.2em;color: black;border-radius: 0.25em;background-color: #f0f8ff;}#sk-container-id-2 input.sk-toggleable__control:checked~div.sk-toggleable__content {max-height: 200px;max-width: 100%;overflow: auto;}#sk-container-id-2 input.sk-toggleable__control:checked~label.sk-toggleable__label-arrow:before {content: \"▾\";}#sk-container-id-2 div.sk-estimator input.sk-toggleable__control:checked~label.sk-toggleable__label {background-color: #d4ebff;}#sk-container-id-2 div.sk-label input.sk-toggleable__control:checked~label.sk-toggleable__label {background-color: #d4ebff;}#sk-container-id-2 input.sk-hidden--visually {border: 0;clip: rect(1px 1px 1px 1px);clip: rect(1px, 1px, 1px, 1px);height: 1px;margin: -1px;overflow: hidden;padding: 0;position: absolute;width: 1px;}#sk-container-id-2 div.sk-estimator {font-family: monospace;background-color: #f0f8ff;border: 1px dotted black;border-radius: 0.25em;box-sizing: border-box;margin-bottom: 0.5em;}#sk-container-id-2 div.sk-estimator:hover {background-color: #d4ebff;}#sk-container-id-2 div.sk-parallel-item::after {content: \"\";width: 100%;border-bottom: 1px solid gray;flex-grow: 1;}#sk-container-id-2 div.sk-label:hover label.sk-toggleable__label {background-color: #d4ebff;}#sk-container-id-2 div.sk-serial::before {content: \"\";position: absolute;border-left: 1px solid gray;box-sizing: border-box;top: 0;bottom: 0;left: 50%;z-index: 0;}#sk-container-id-2 div.sk-serial {display: flex;flex-direction: column;align-items: center;background-color: white;padding-right: 0.2em;padding-left: 0.2em;position: relative;}#sk-container-id-2 div.sk-item {position: relative;z-index: 1;}#sk-container-id-2 div.sk-parallel {display: flex;align-items: stretch;justify-content: center;background-color: white;position: relative;}#sk-container-id-2 div.sk-item::before, #sk-container-id-2 div.sk-parallel-item::before {content: \"\";position: absolute;border-left: 1px solid gray;box-sizing: border-box;top: 0;bottom: 0;left: 50%;z-index: -1;}#sk-container-id-2 div.sk-parallel-item {display: flex;flex-direction: column;z-index: 1;position: relative;background-color: white;}#sk-container-id-2 div.sk-parallel-item:first-child::after {align-self: flex-end;width: 50%;}#sk-container-id-2 div.sk-parallel-item:last-child::after {align-self: flex-start;width: 50%;}#sk-container-id-2 div.sk-parallel-item:only-child::after {width: 0;}#sk-container-id-2 div.sk-dashed-wrapped {border: 1px dashed gray;margin: 0 0.4em 0.5em 0.4em;box-sizing: border-box;padding-bottom: 0.4em;background-color: white;}#sk-container-id-2 div.sk-label label {font-family: monospace;font-weight: bold;display: inline-block;line-height: 1.2em;}#sk-container-id-2 div.sk-label-container {text-align: center;}#sk-container-id-2 div.sk-container {/* jupyter's `normalize.less` sets `[hidden] { display: none; }` but bootstrap.min.css set `[hidden] { display: none !important; }` so we also need the `!important` here to be able to override the default hidden behavior on the sphinx rendered scikit-learn.org. See: https://github.com/scikit-learn/scikit-learn/issues/21755 */display: inline-block !important;position: relative;}#sk-container-id-2 div.sk-text-repr-fallback {display: none;}</style><div id=\"sk-container-id-2\" class=\"sk-top-container\"><div class=\"sk-text-repr-fallback\"><pre>GridSearchCV(cv=3, estimator=RandomForestClassifier(random_state=42), n_jobs=-1,\n",
       "             param_grid={&#x27;max_depth&#x27;: [10, 20, 30],\n",
       "                         &#x27;min_samples_leaf&#x27;: [1, 2, 4],\n",
       "                         &#x27;min_samples_split&#x27;: [2, 5, 10],\n",
       "                         &#x27;n_estimators&#x27;: [100, 200, 300]},\n",
       "             verbose=2)</pre><b>In a Jupyter environment, please rerun this cell to show the HTML representation or trust the notebook. <br />On GitHub, the HTML representation is unable to render, please try loading this page with nbviewer.org.</b></div><div class=\"sk-container\" hidden><div class=\"sk-item sk-dashed-wrapped\"><div class=\"sk-label-container\"><div class=\"sk-label sk-toggleable\"><input class=\"sk-toggleable__control sk-hidden--visually\" id=\"sk-estimator-id-2\" type=\"checkbox\" ><label for=\"sk-estimator-id-2\" class=\"sk-toggleable__label sk-toggleable__label-arrow\">GridSearchCV</label><div class=\"sk-toggleable__content\"><pre>GridSearchCV(cv=3, estimator=RandomForestClassifier(random_state=42), n_jobs=-1,\n",
       "             param_grid={&#x27;max_depth&#x27;: [10, 20, 30],\n",
       "                         &#x27;min_samples_leaf&#x27;: [1, 2, 4],\n",
       "                         &#x27;min_samples_split&#x27;: [2, 5, 10],\n",
       "                         &#x27;n_estimators&#x27;: [100, 200, 300]},\n",
       "             verbose=2)</pre></div></div></div><div class=\"sk-parallel\"><div class=\"sk-parallel-item\"><div class=\"sk-item\"><div class=\"sk-label-container\"><div class=\"sk-label sk-toggleable\"><input class=\"sk-toggleable__control sk-hidden--visually\" id=\"sk-estimator-id-3\" type=\"checkbox\" ><label for=\"sk-estimator-id-3\" class=\"sk-toggleable__label sk-toggleable__label-arrow\">estimator: RandomForestClassifier</label><div class=\"sk-toggleable__content\"><pre>RandomForestClassifier(random_state=42)</pre></div></div></div><div class=\"sk-serial\"><div class=\"sk-item\"><div class=\"sk-estimator sk-toggleable\"><input class=\"sk-toggleable__control sk-hidden--visually\" id=\"sk-estimator-id-4\" type=\"checkbox\" ><label for=\"sk-estimator-id-4\" class=\"sk-toggleable__label sk-toggleable__label-arrow\">RandomForestClassifier</label><div class=\"sk-toggleable__content\"><pre>RandomForestClassifier(random_state=42)</pre></div></div></div></div></div></div></div></div></div></div>"
      ],
      "text/plain": [
       "GridSearchCV(cv=3, estimator=RandomForestClassifier(random_state=42), n_jobs=-1,\n",
       "             param_grid={'max_depth': [10, 20, 30],\n",
       "                         'min_samples_leaf': [1, 2, 4],\n",
       "                         'min_samples_split': [2, 5, 10],\n",
       "                         'n_estimators': [100, 200, 300]},\n",
       "             verbose=2)"
      ]
     },
     "execution_count": 37,
     "metadata": {},
     "output_type": "execute_result"
    }
   ],
   "source": [
    "grid_search = GridSearchCV(estimator=rf, param_grid=param_grid, cv=3, n_jobs=-1, verbose=2)\n",
    "grid_search.fit(X_train, y_train)\n"
   ]
  },
  {
   "cell_type": "code",
   "execution_count": 38,
   "metadata": {
    "colab": {
     "base_uri": "https://localhost:8080/"
    },
    "id": "oJRStrtycdP7",
    "outputId": "cb7798ee-679a-46af-8385-8a9771164a31"
   },
   "outputs": [
    {
     "name": "stdout",
     "output_type": "stream",
     "text": [
      "Best parameters: {'max_depth': 10, 'min_samples_leaf': 4, 'min_samples_split': 10, 'n_estimators': 200}\n"
     ]
    }
   ],
   "source": [
    "print(f\"Best parameters: {grid_search.best_params_}\")"
   ]
  },
  {
   "cell_type": "code",
   "execution_count": 39,
   "metadata": {
    "id": "YLzY66Nzcf0S"
   },
   "outputs": [],
   "source": [
    "best_rf = grid_search.best_estimator_\n"
   ]
  },
  {
   "cell_type": "code",
   "execution_count": 40,
   "metadata": {
    "colab": {
     "base_uri": "https://localhost:8080/"
    },
    "id": "-VkIu8FrcgV3",
    "outputId": "e479160a-41d9-4eff-fdc3-1c436f3dd374"
   },
   "outputs": [
    {
     "name": "stdout",
     "output_type": "stream",
     "text": [
      "Confusion Matrix:\n",
      "[[ 83   0   0]\n",
      " [  0 799   0]\n",
      " [  2   0  16]]\n",
      "\n",
      "Classification Report:\n",
      "              precision    recall  f1-score   support\n",
      "\n",
      "           0       0.98      1.00      0.99        83\n",
      "           1       1.00      1.00      1.00       799\n",
      "           2       1.00      0.89      0.94        18\n",
      "\n",
      "    accuracy                           1.00       900\n",
      "   macro avg       0.99      0.96      0.98       900\n",
      "weighted avg       1.00      1.00      1.00       900\n",
      "\n"
     ]
    }
   ],
   "source": [
    "# Evaluate the tuned model\n",
    "y_pred_tuned = best_rf.predict(X_test)\n",
    "\n",
    "print(\"Confusion Matrix:\")\n",
    "print(confusion_matrix(y_test, y_pred_tuned))\n",
    "print(\"\\nClassification Report:\")\n",
    "print(classification_report(y_test, y_pred_tuned))"
   ]
  },
  {
   "cell_type": "code",
   "execution_count": null,
   "metadata": {
    "id": "9ZFRHjgNcifU"
   },
   "outputs": [],
   "source": []
  },
  {
   "cell_type": "markdown",
   "metadata": {
    "id": "UN1iiik7ckm3"
   },
   "source": [
    "### Add Noise or Regularization\n"
   ]
  },
  {
   "cell_type": "code",
   "execution_count": 46,
   "metadata": {
    "id": "ADmI_fn6ckLH"
   },
   "outputs": [],
   "source": [
    "import tensorflow as tf\n",
    "from tensorflow.keras.models import Sequential\n",
    "from tensorflow.keras.layers import Dense, Dropout\n"
   ]
  },
  {
   "cell_type": "code",
   "execution_count": 47,
   "metadata": {
    "id": "MjuUMX4ScoG9"
   },
   "outputs": [],
   "source": [
    "# Build neural network with dropout layers\n",
    "nn_model = Sequential()\n",
    "nn_model.add(Dense(100, input_dim=X_train.shape[1], activation='relu'))\n",
    "nn_model.add(Dropout(0.5))\n",
    "nn_model.add(Dense(100, activation='relu'))\n",
    "nn_model.add(Dropout(0.5))\n",
    "nn_model.add(Dense(3, activation='softmax'))"
   ]
  },
  {
   "cell_type": "code",
   "execution_count": 48,
   "metadata": {
    "id": "MHuEInaFcqC5"
   },
   "outputs": [],
   "source": [
    "nn_model.compile(loss='sparse_categorical_crossentropy', optimizer='adam', metrics=['accuracy'])\n"
   ]
  },
  {
   "cell_type": "code",
   "execution_count": 49,
   "metadata": {
    "colab": {
     "base_uri": "https://localhost:8080/"
    },
    "id": "jxwIhqrScsN7",
    "outputId": "0061e6e2-702c-4499-8d00-574886f4c4d8"
   },
   "outputs": [
    {
     "name": "stdout",
     "output_type": "stream",
     "text": [
      "Epoch 1/100\n",
      "66/66 [==============================] - 1s 7ms/step - loss: 2.6492 - accuracy: 0.8019 - val_loss: 0.3283 - val_accuracy: 0.8889\n",
      "Epoch 2/100\n",
      "66/66 [==============================] - 0s 3ms/step - loss: 1.0577 - accuracy: 0.8395 - val_loss: 0.2571 - val_accuracy: 0.8978\n",
      "Epoch 3/100\n",
      "66/66 [==============================] - 0s 3ms/step - loss: 0.6675 - accuracy: 0.8505 - val_loss: 0.2460 - val_accuracy: 0.9011\n",
      "Epoch 4/100\n",
      "66/66 [==============================] - 0s 3ms/step - loss: 0.4611 - accuracy: 0.8638 - val_loss: 0.2635 - val_accuracy: 0.8989\n",
      "Epoch 5/100\n",
      "66/66 [==============================] - 0s 3ms/step - loss: 0.3998 - accuracy: 0.8714 - val_loss: 0.2758 - val_accuracy: 0.9089\n",
      "Epoch 6/100\n",
      "66/66 [==============================] - 0s 3ms/step - loss: 0.3515 - accuracy: 0.8743 - val_loss: 0.3225 - val_accuracy: 0.9000\n",
      "Epoch 7/100\n",
      "66/66 [==============================] - 0s 3ms/step - loss: 0.3233 - accuracy: 0.8824 - val_loss: 0.2792 - val_accuracy: 0.8900\n",
      "Epoch 8/100\n",
      "66/66 [==============================] - 0s 3ms/step - loss: 0.2897 - accuracy: 0.8838 - val_loss: 0.2430 - val_accuracy: 0.9067\n",
      "Epoch 9/100\n",
      "66/66 [==============================] - 0s 4ms/step - loss: 0.2810 - accuracy: 0.8814 - val_loss: 0.2334 - val_accuracy: 0.8978\n",
      "Epoch 10/100\n",
      "66/66 [==============================] - 0s 3ms/step - loss: 0.2630 - accuracy: 0.8862 - val_loss: 0.2426 - val_accuracy: 0.9111\n",
      "Epoch 11/100\n",
      "66/66 [==============================] - 0s 3ms/step - loss: 0.2701 - accuracy: 0.8829 - val_loss: 0.2323 - val_accuracy: 0.9122\n",
      "Epoch 12/100\n",
      "66/66 [==============================] - 0s 3ms/step - loss: 0.2552 - accuracy: 0.8867 - val_loss: 0.2220 - val_accuracy: 0.9100\n",
      "Epoch 13/100\n",
      "66/66 [==============================] - 0s 3ms/step - loss: 0.2354 - accuracy: 0.8929 - val_loss: 0.2238 - val_accuracy: 0.9133\n",
      "Epoch 14/100\n",
      "66/66 [==============================] - 0s 3ms/step - loss: 0.2421 - accuracy: 0.8843 - val_loss: 0.2118 - val_accuracy: 0.9033\n",
      "Epoch 15/100\n",
      "66/66 [==============================] - 0s 3ms/step - loss: 0.2249 - accuracy: 0.9000 - val_loss: 0.2083 - val_accuracy: 0.9200\n",
      "Epoch 16/100\n",
      "66/66 [==============================] - 0s 3ms/step - loss: 0.2270 - accuracy: 0.9000 - val_loss: 0.2043 - val_accuracy: 0.9144\n",
      "Epoch 17/100\n",
      "66/66 [==============================] - 0s 3ms/step - loss: 0.2209 - accuracy: 0.8933 - val_loss: 0.1999 - val_accuracy: 0.9222\n",
      "Epoch 18/100\n",
      "66/66 [==============================] - 0s 3ms/step - loss: 0.2238 - accuracy: 0.8995 - val_loss: 0.2014 - val_accuracy: 0.9233\n",
      "Epoch 19/100\n",
      "66/66 [==============================] - 0s 3ms/step - loss: 0.2240 - accuracy: 0.8952 - val_loss: 0.1984 - val_accuracy: 0.9233\n",
      "Epoch 20/100\n",
      "66/66 [==============================] - 0s 3ms/step - loss: 0.2152 - accuracy: 0.8924 - val_loss: 0.1888 - val_accuracy: 0.9211\n",
      "Epoch 21/100\n",
      "66/66 [==============================] - 0s 4ms/step - loss: 0.2206 - accuracy: 0.8938 - val_loss: 0.1902 - val_accuracy: 0.9244\n",
      "Epoch 22/100\n",
      "66/66 [==============================] - 0s 5ms/step - loss: 0.2128 - accuracy: 0.8919 - val_loss: 0.1899 - val_accuracy: 0.9200\n",
      "Epoch 23/100\n",
      "66/66 [==============================] - 0s 4ms/step - loss: 0.2091 - accuracy: 0.9019 - val_loss: 0.1924 - val_accuracy: 0.9156\n",
      "Epoch 24/100\n",
      "66/66 [==============================] - 0s 4ms/step - loss: 0.2161 - accuracy: 0.8986 - val_loss: 0.1910 - val_accuracy: 0.9189\n",
      "Epoch 25/100\n",
      "66/66 [==============================] - 0s 4ms/step - loss: 0.2095 - accuracy: 0.9005 - val_loss: 0.1890 - val_accuracy: 0.9244\n",
      "Epoch 26/100\n",
      "66/66 [==============================] - 0s 4ms/step - loss: 0.2075 - accuracy: 0.9010 - val_loss: 0.1874 - val_accuracy: 0.9200\n",
      "Epoch 27/100\n",
      "66/66 [==============================] - 0s 5ms/step - loss: 0.2129 - accuracy: 0.9033 - val_loss: 0.1944 - val_accuracy: 0.9156\n",
      "Epoch 28/100\n",
      "66/66 [==============================] - 0s 4ms/step - loss: 0.2001 - accuracy: 0.9033 - val_loss: 0.1828 - val_accuracy: 0.9189\n",
      "Epoch 29/100\n",
      "66/66 [==============================] - 0s 4ms/step - loss: 0.2041 - accuracy: 0.9052 - val_loss: 0.1880 - val_accuracy: 0.9189\n",
      "Epoch 30/100\n",
      "66/66 [==============================] - 0s 5ms/step - loss: 0.1998 - accuracy: 0.9100 - val_loss: 0.1853 - val_accuracy: 0.9244\n",
      "Epoch 31/100\n",
      "66/66 [==============================] - 0s 4ms/step - loss: 0.2024 - accuracy: 0.9095 - val_loss: 0.1897 - val_accuracy: 0.9211\n",
      "Epoch 32/100\n",
      "66/66 [==============================] - 0s 5ms/step - loss: 0.1988 - accuracy: 0.9048 - val_loss: 0.1841 - val_accuracy: 0.9222\n",
      "Epoch 33/100\n",
      "66/66 [==============================] - 0s 4ms/step - loss: 0.1961 - accuracy: 0.9090 - val_loss: 0.1855 - val_accuracy: 0.9244\n",
      "Epoch 34/100\n",
      "66/66 [==============================] - 0s 4ms/step - loss: 0.2010 - accuracy: 0.9086 - val_loss: 0.1816 - val_accuracy: 0.9178\n",
      "Epoch 35/100\n",
      "66/66 [==============================] - 0s 6ms/step - loss: 0.1970 - accuracy: 0.9038 - val_loss: 0.1821 - val_accuracy: 0.9256\n",
      "Epoch 36/100\n",
      "66/66 [==============================] - 0s 4ms/step - loss: 0.2006 - accuracy: 0.9052 - val_loss: 0.1886 - val_accuracy: 0.9156\n",
      "Epoch 37/100\n",
      "66/66 [==============================] - 0s 4ms/step - loss: 0.1931 - accuracy: 0.9129 - val_loss: 0.1833 - val_accuracy: 0.9222\n",
      "Epoch 38/100\n",
      "66/66 [==============================] - 0s 4ms/step - loss: 0.1967 - accuracy: 0.9048 - val_loss: 0.1760 - val_accuracy: 0.9233\n",
      "Epoch 39/100\n",
      "66/66 [==============================] - 0s 5ms/step - loss: 0.1889 - accuracy: 0.9086 - val_loss: 0.1863 - val_accuracy: 0.9211\n",
      "Epoch 40/100\n",
      "66/66 [==============================] - 0s 3ms/step - loss: 0.1945 - accuracy: 0.9095 - val_loss: 0.1800 - val_accuracy: 0.9233\n",
      "Epoch 41/100\n",
      "66/66 [==============================] - 0s 3ms/step - loss: 0.1950 - accuracy: 0.8995 - val_loss: 0.1797 - val_accuracy: 0.9267\n",
      "Epoch 42/100\n",
      "66/66 [==============================] - 0s 3ms/step - loss: 0.1905 - accuracy: 0.9076 - val_loss: 0.1774 - val_accuracy: 0.9267\n",
      "Epoch 43/100\n",
      "66/66 [==============================] - 0s 4ms/step - loss: 0.1916 - accuracy: 0.9052 - val_loss: 0.1787 - val_accuracy: 0.9267\n",
      "Epoch 44/100\n",
      "66/66 [==============================] - 0s 3ms/step - loss: 0.1921 - accuracy: 0.9119 - val_loss: 0.1773 - val_accuracy: 0.9256\n",
      "Epoch 45/100\n",
      "66/66 [==============================] - 0s 3ms/step - loss: 0.1893 - accuracy: 0.9062 - val_loss: 0.1759 - val_accuracy: 0.9278\n",
      "Epoch 46/100\n",
      "66/66 [==============================] - 0s 3ms/step - loss: 0.1920 - accuracy: 0.9090 - val_loss: 0.1763 - val_accuracy: 0.9256\n",
      "Epoch 47/100\n",
      "66/66 [==============================] - 0s 3ms/step - loss: 0.1956 - accuracy: 0.9114 - val_loss: 0.1769 - val_accuracy: 0.9267\n",
      "Epoch 48/100\n",
      "66/66 [==============================] - 0s 3ms/step - loss: 0.1907 - accuracy: 0.9138 - val_loss: 0.1772 - val_accuracy: 0.9256\n",
      "Epoch 49/100\n",
      "66/66 [==============================] - 0s 3ms/step - loss: 0.1856 - accuracy: 0.9100 - val_loss: 0.1792 - val_accuracy: 0.9244\n",
      "Epoch 50/100\n",
      "66/66 [==============================] - 0s 3ms/step - loss: 0.1884 - accuracy: 0.9110 - val_loss: 0.1777 - val_accuracy: 0.9256\n",
      "Epoch 51/100\n",
      "66/66 [==============================] - 0s 3ms/step - loss: 0.1965 - accuracy: 0.9057 - val_loss: 0.1754 - val_accuracy: 0.9267\n",
      "Epoch 52/100\n",
      "66/66 [==============================] - 0s 3ms/step - loss: 0.1945 - accuracy: 0.9043 - val_loss: 0.1823 - val_accuracy: 0.9178\n",
      "Epoch 53/100\n",
      "66/66 [==============================] - 0s 3ms/step - loss: 0.1802 - accuracy: 0.9190 - val_loss: 0.1737 - val_accuracy: 0.9267\n",
      "Epoch 54/100\n",
      "66/66 [==============================] - 0s 3ms/step - loss: 0.1895 - accuracy: 0.9095 - val_loss: 0.1736 - val_accuracy: 0.9278\n",
      "Epoch 55/100\n",
      "66/66 [==============================] - 0s 3ms/step - loss: 0.1846 - accuracy: 0.9190 - val_loss: 0.1727 - val_accuracy: 0.9278\n",
      "Epoch 56/100\n",
      "66/66 [==============================] - 0s 3ms/step - loss: 0.1904 - accuracy: 0.9048 - val_loss: 0.1714 - val_accuracy: 0.9267\n",
      "Epoch 57/100\n",
      "66/66 [==============================] - 0s 3ms/step - loss: 0.1883 - accuracy: 0.9129 - val_loss: 0.1740 - val_accuracy: 0.9278\n",
      "Epoch 58/100\n",
      "66/66 [==============================] - 0s 3ms/step - loss: 0.1876 - accuracy: 0.9129 - val_loss: 0.1742 - val_accuracy: 0.9233\n",
      "Epoch 59/100\n",
      "66/66 [==============================] - 0s 3ms/step - loss: 0.1819 - accuracy: 0.9148 - val_loss: 0.1693 - val_accuracy: 0.9300\n",
      "Epoch 60/100\n",
      "66/66 [==============================] - 0s 3ms/step - loss: 0.1870 - accuracy: 0.9086 - val_loss: 0.1778 - val_accuracy: 0.9189\n",
      "Epoch 61/100\n",
      "66/66 [==============================] - 0s 3ms/step - loss: 0.1837 - accuracy: 0.9124 - val_loss: 0.1732 - val_accuracy: 0.9267\n",
      "Epoch 62/100\n",
      "66/66 [==============================] - 0s 4ms/step - loss: 0.1933 - accuracy: 0.9043 - val_loss: 0.1717 - val_accuracy: 0.9300\n",
      "Epoch 63/100\n",
      "66/66 [==============================] - 0s 3ms/step - loss: 0.1847 - accuracy: 0.9181 - val_loss: 0.1671 - val_accuracy: 0.9233\n",
      "Epoch 64/100\n",
      "66/66 [==============================] - 0s 3ms/step - loss: 0.1826 - accuracy: 0.9110 - val_loss: 0.1649 - val_accuracy: 0.9322\n",
      "Epoch 65/100\n",
      "66/66 [==============================] - 0s 3ms/step - loss: 0.1809 - accuracy: 0.9129 - val_loss: 0.1692 - val_accuracy: 0.9256\n",
      "Epoch 66/100\n",
      "66/66 [==============================] - 0s 3ms/step - loss: 0.1881 - accuracy: 0.9062 - val_loss: 0.1750 - val_accuracy: 0.9222\n",
      "Epoch 67/100\n",
      "66/66 [==============================] - 0s 3ms/step - loss: 0.1848 - accuracy: 0.9143 - val_loss: 0.1708 - val_accuracy: 0.9278\n",
      "Epoch 68/100\n",
      "66/66 [==============================] - 0s 3ms/step - loss: 0.1790 - accuracy: 0.9133 - val_loss: 0.1710 - val_accuracy: 0.9256\n",
      "Epoch 69/100\n",
      "66/66 [==============================] - 0s 3ms/step - loss: 0.1835 - accuracy: 0.9062 - val_loss: 0.1699 - val_accuracy: 0.9300\n",
      "Epoch 70/100\n",
      "66/66 [==============================] - 0s 3ms/step - loss: 0.1944 - accuracy: 0.9048 - val_loss: 0.1676 - val_accuracy: 0.9289\n",
      "Epoch 71/100\n",
      "66/66 [==============================] - 0s 3ms/step - loss: 0.1896 - accuracy: 0.9114 - val_loss: 0.1714 - val_accuracy: 0.9244\n",
      "Epoch 72/100\n",
      "66/66 [==============================] - 0s 3ms/step - loss: 0.1866 - accuracy: 0.9133 - val_loss: 0.1727 - val_accuracy: 0.9256\n",
      "Epoch 73/100\n",
      "66/66 [==============================] - 0s 3ms/step - loss: 0.1838 - accuracy: 0.9143 - val_loss: 0.1736 - val_accuracy: 0.9267\n",
      "Epoch 74/100\n",
      "66/66 [==============================] - 0s 3ms/step - loss: 0.1822 - accuracy: 0.9143 - val_loss: 0.1727 - val_accuracy: 0.9244\n",
      "Epoch 75/100\n",
      "66/66 [==============================] - 0s 3ms/step - loss: 0.1830 - accuracy: 0.9148 - val_loss: 0.1698 - val_accuracy: 0.9278\n",
      "Epoch 76/100\n",
      "66/66 [==============================] - 0s 3ms/step - loss: 0.1844 - accuracy: 0.9076 - val_loss: 0.1766 - val_accuracy: 0.9256\n",
      "Epoch 77/100\n",
      "66/66 [==============================] - 0s 3ms/step - loss: 0.1879 - accuracy: 0.9119 - val_loss: 0.1668 - val_accuracy: 0.9289\n",
      "Epoch 78/100\n",
      "66/66 [==============================] - 0s 3ms/step - loss: 0.1774 - accuracy: 0.9181 - val_loss: 0.1680 - val_accuracy: 0.9267\n",
      "Epoch 79/100\n",
      "66/66 [==============================] - 0s 3ms/step - loss: 0.1880 - accuracy: 0.9114 - val_loss: 0.1694 - val_accuracy: 0.9256\n",
      "Epoch 80/100\n",
      "66/66 [==============================] - 0s 3ms/step - loss: 0.1737 - accuracy: 0.9238 - val_loss: 0.1780 - val_accuracy: 0.9211\n",
      "Epoch 81/100\n",
      "66/66 [==============================] - 0s 3ms/step - loss: 0.1809 - accuracy: 0.9186 - val_loss: 0.1723 - val_accuracy: 0.9256\n",
      "Epoch 82/100\n",
      "66/66 [==============================] - 0s 3ms/step - loss: 0.1808 - accuracy: 0.9119 - val_loss: 0.1668 - val_accuracy: 0.9300\n",
      "Epoch 83/100\n",
      "66/66 [==============================] - 0s 3ms/step - loss: 0.1775 - accuracy: 0.9157 - val_loss: 0.1693 - val_accuracy: 0.9300\n",
      "Epoch 84/100\n",
      "66/66 [==============================] - 0s 3ms/step - loss: 0.1819 - accuracy: 0.9067 - val_loss: 0.1695 - val_accuracy: 0.9289\n",
      "Epoch 85/100\n",
      "66/66 [==============================] - 0s 3ms/step - loss: 0.1777 - accuracy: 0.9205 - val_loss: 0.1717 - val_accuracy: 0.9200\n",
      "Epoch 86/100\n",
      "66/66 [==============================] - 0s 3ms/step - loss: 0.1844 - accuracy: 0.9152 - val_loss: 0.1662 - val_accuracy: 0.9278\n",
      "Epoch 87/100\n",
      "66/66 [==============================] - 0s 3ms/step - loss: 0.1807 - accuracy: 0.9129 - val_loss: 0.1641 - val_accuracy: 0.9289\n",
      "Epoch 88/100\n",
      "66/66 [==============================] - 0s 4ms/step - loss: 0.1793 - accuracy: 0.9138 - val_loss: 0.1664 - val_accuracy: 0.9289\n",
      "Epoch 89/100\n",
      "66/66 [==============================] - 0s 4ms/step - loss: 0.1816 - accuracy: 0.9138 - val_loss: 0.1694 - val_accuracy: 0.9267\n",
      "Epoch 90/100\n",
      "66/66 [==============================] - 0s 4ms/step - loss: 0.1781 - accuracy: 0.9129 - val_loss: 0.1628 - val_accuracy: 0.9289\n",
      "Epoch 91/100\n",
      "66/66 [==============================] - 0s 4ms/step - loss: 0.1819 - accuracy: 0.9081 - val_loss: 0.1682 - val_accuracy: 0.9289\n",
      "Epoch 92/100\n",
      "66/66 [==============================] - 0s 4ms/step - loss: 0.1859 - accuracy: 0.9143 - val_loss: 0.1694 - val_accuracy: 0.9278\n",
      "Epoch 93/100\n",
      "66/66 [==============================] - 0s 5ms/step - loss: 0.1820 - accuracy: 0.9076 - val_loss: 0.1596 - val_accuracy: 0.9267\n",
      "Epoch 94/100\n",
      "66/66 [==============================] - 0s 5ms/step - loss: 0.1866 - accuracy: 0.9090 - val_loss: 0.1656 - val_accuracy: 0.9300\n",
      "Epoch 95/100\n",
      "66/66 [==============================] - 0s 4ms/step - loss: 0.1798 - accuracy: 0.9052 - val_loss: 0.1676 - val_accuracy: 0.9300\n",
      "Epoch 96/100\n",
      "66/66 [==============================] - 0s 5ms/step - loss: 0.1772 - accuracy: 0.9176 - val_loss: 0.1700 - val_accuracy: 0.9300\n",
      "Epoch 97/100\n",
      "66/66 [==============================] - 0s 5ms/step - loss: 0.1776 - accuracy: 0.9171 - val_loss: 0.1684 - val_accuracy: 0.9278\n",
      "Epoch 98/100\n",
      "66/66 [==============================] - 0s 6ms/step - loss: 0.1805 - accuracy: 0.9176 - val_loss: 0.1766 - val_accuracy: 0.9178\n",
      "Epoch 99/100\n",
      "66/66 [==============================] - 0s 6ms/step - loss: 0.1851 - accuracy: 0.9110 - val_loss: 0.1633 - val_accuracy: 0.9289\n",
      "Epoch 100/100\n",
      "66/66 [==============================] - 0s 5ms/step - loss: 0.1795 - accuracy: 0.9090 - val_loss: 0.1792 - val_accuracy: 0.9111\n"
     ]
    },
    {
     "data": {
      "text/plain": [
       "<keras.src.callbacks.History at 0x7df542f438e0>"
      ]
     },
     "execution_count": 49,
     "metadata": {},
     "output_type": "execute_result"
    }
   ],
   "source": [
    "# Train the neural network\n",
    "nn_model.fit(X_train, y_train, epochs=100, batch_size=32, validation_data=(X_test, y_test))\n"
   ]
  },
  {
   "cell_type": "code",
   "execution_count": 50,
   "metadata": {
    "colab": {
     "base_uri": "https://localhost:8080/"
    },
    "id": "cOdXHNzpctz0",
    "outputId": "9554965a-846e-429f-ac18-be77a5b9eb34"
   },
   "outputs": [
    {
     "name": "stdout",
     "output_type": "stream",
     "text": [
      "29/29 [==============================] - 0s 1ms/step - loss: 0.1792 - accuracy: 0.9111\n",
      "Neural Network Accuracy: 0.9111111164093018\n"
     ]
    }
   ],
   "source": [
    "# Evaluate the neural network\n",
    "nn_loss, nn_accuracy = nn_model.evaluate(X_test, y_test)\n",
    "print(f\"Neural Network Accuracy: {nn_accuracy}\")"
   ]
  },
  {
   "cell_type": "code",
   "execution_count": 51,
   "metadata": {
    "id": "i3c5GgzFeKJw"
   },
   "outputs": [],
   "source": [
    "from joblib import dump\n",
    "import os\n",
    "\n",
    "# Directory path to save models\n",
    "save_path = '/content/drive/MyDrive/Predict planet watering'"
   ]
  },
  {
   "cell_type": "code",
   "execution_count": 52,
   "metadata": {
    "id": "HnvE-qi8iN-G"
   },
   "outputs": [],
   "source": [
    "# Ensure the directory exists\n",
    "os.makedirs(save_path, exist_ok=True)"
   ]
  },
  {
   "cell_type": "code",
   "execution_count": 53,
   "metadata": {
    "colab": {
     "base_uri": "https://localhost:8080/"
    },
    "id": "2XhFNTdHhy98",
    "outputId": "000de898-b7cf-489a-8684-8c2cee4458a4"
   },
   "outputs": [
    {
     "data": {
      "text/plain": [
       "['/content/drive/MyDrive/Predict planet watering/decision_tree_model.joblib']"
      ]
     },
     "execution_count": 53,
     "metadata": {},
     "output_type": "execute_result"
    }
   ],
   "source": [
    "# Train and save the Decision Tree model\n",
    "dt_model = DecisionTreeClassifier(random_state=42)\n",
    "dt_model.fit(X_train, y_train)\n",
    "dump(dt_model, os.path.join(save_path, 'decision_tree_model.joblib'))"
   ]
  },
  {
   "cell_type": "code",
   "execution_count": 54,
   "metadata": {
    "colab": {
     "base_uri": "https://localhost:8080/"
    },
    "id": "LLv8bDTnh1EM",
    "outputId": "e57675ce-f07a-46a5-b6dc-e05c9b1324a3"
   },
   "outputs": [
    {
     "data": {
      "text/plain": [
       "['/content/drive/MyDrive/Predict planet watering/random_forest_model.joblib']"
      ]
     },
     "execution_count": 54,
     "metadata": {},
     "output_type": "execute_result"
    }
   ],
   "source": [
    "# Train and save the Random Forest model\n",
    "rf_model = RandomForestClassifier(n_estimators=100, random_state=42)\n",
    "rf_model.fit(X_train, y_train)\n",
    "dump(rf_model, os.path.join(save_path, 'random_forest_model.joblib'))"
   ]
  },
  {
   "cell_type": "code",
   "execution_count": 55,
   "metadata": {
    "colab": {
     "base_uri": "https://localhost:8080/"
    },
    "id": "6wrhaaTQiUjz",
    "outputId": "a3ce3600-cab3-432c-f443-ad919fe4343d"
   },
   "outputs": [
    {
     "data": {
      "text/plain": [
       "['/content/drive/MyDrive/Predict planet watering/gradient_boosting_model.joblib']"
      ]
     },
     "execution_count": 55,
     "metadata": {},
     "output_type": "execute_result"
    }
   ],
   "source": [
    "# Train and save the Gradient Boosting model\n",
    "gb_model = GradientBoostingClassifier(n_estimators=100, random_state=42)\n",
    "gb_model.fit(X_train, y_train)\n",
    "dump(gb_model, os.path.join(save_path, 'gradient_boosting_model.joblib'))"
   ]
  },
  {
   "cell_type": "code",
   "execution_count": 56,
   "metadata": {
    "colab": {
     "base_uri": "https://localhost:8080/"
    },
    "id": "OEphcdz8iU95",
    "outputId": "20648f8b-1d29-474f-95a4-a0b96e8b02a5"
   },
   "outputs": [
    {
     "data": {
      "text/plain": [
       "['/content/drive/MyDrive/Predict planet watering/neural_network_model.joblib']"
      ]
     },
     "execution_count": 56,
     "metadata": {},
     "output_type": "execute_result"
    }
   ],
   "source": [
    "# Train and save the Neural Network model\n",
    "nn_model = MLPClassifier(hidden_layer_sizes=(100,), max_iter=500, random_state=42)\n",
    "nn_model.fit(X_train, y_train)\n",
    "dump(nn_model, os.path.join(save_path, 'neural_network_model.joblib'))"
   ]
  },
  {
   "cell_type": "markdown",
   "metadata": {
    "id": "BgsNosPCpbw0"
   },
   "source": [
    "# Loading the Models and Prediction Function"
   ]
  },
  {
   "cell_type": "code",
   "execution_count": 57,
   "metadata": {
    "id": "Kc3aTB_aiU6w"
   },
   "outputs": [],
   "source": [
    "import pandas as pd\n",
    "import numpy as np\n",
    "from sklearn.tree import DecisionTreeClassifier\n",
    "from sklearn.ensemble import RandomForestClassifier, GradientBoostingClassifier\n",
    "from sklearn.neural_network import MLPClassifier\n",
    "from joblib import load"
   ]
  },
  {
   "cell_type": "code",
   "execution_count": 58,
   "metadata": {
    "id": "yVYa4PbfpfhF"
   },
   "outputs": [],
   "source": [
    "# Directory path where models are saved\n",
    "load_path = '/content/drive/MyDrive/Predict planet watering'"
   ]
  },
  {
   "cell_type": "code",
   "execution_count": 59,
   "metadata": {
    "id": "RR8-_VQDpiV4"
   },
   "outputs": [],
   "source": [
    "# Load the models\n",
    "decision_tree_model = load(os.path.join(load_path, 'decision_tree_model.joblib'))\n",
    "random_forest_model = load(os.path.join(load_path, 'random_forest_model.joblib'))\n",
    "gradient_boosting_model = load(os.path.join(load_path, 'gradient_boosting_model.joblib'))\n",
    "neural_network_model = load(os.path.join(load_path, 'neural_network_model.joblib'))"
   ]
  },
  {
   "cell_type": "code",
   "execution_count": 60,
   "metadata": {
    "id": "5kaUCLUSpkso"
   },
   "outputs": [],
   "source": [
    "# Function to predict water status\n",
    "def predict_water_status(model, soil_moisture, temperature, air_humidity):\n",
    "    input_data = np.array([[soil_moisture, temperature, air_humidity]])\n",
    "    prediction = model.predict(input_data)\n",
    "    status = {0: 'water wasted', 1: 'level of water is good', 2: 'decrease water'}\n",
    "    return status[prediction[0]]"
   ]
  },
  {
   "cell_type": "markdown",
   "metadata": {
    "id": "uSniQx9nqOgL"
   },
   "source": [
    "# test models"
   ]
  },
  {
   "cell_type": "markdown",
   "metadata": {
    "id": "DO84n7B9ub5h"
   },
   "source": [
    "If the sensor value is more than 600 but less than 1000 then the soil is dry.-> increase water <br>\n",
    "If the sensor value is 370 to 600 then the soil is humid.<br>\n",
    "If the sensor value is less than 370 then the sensor in the water."
   ]
  },
  {
   "cell_type": "code",
   "execution_count": 67,
   "metadata": {
    "id": "vQld0rgIpnv-"
   },
   "outputs": [],
   "source": [
    "# Example inputs\n",
    "soil_moisture = 65\n",
    "temperature = 32\n",
    "air_humidity = 32\n"
   ]
  },
  {
   "cell_type": "code",
   "execution_count": 68,
   "metadata": {
    "colab": {
     "base_uri": "https://localhost:8080/"
    },
    "id": "Z43_6hQZpr-O",
    "outputId": "21cc8966-20da-400b-87f6-01564f3db89a"
   },
   "outputs": [
    {
     "name": "stdout",
     "output_type": "stream",
     "text": [
      "Decision Tree Prediction: decrease water\n"
     ]
    }
   ],
   "source": [
    "\n",
    "# Predict using Decision Tree\n",
    "dt_status = predict_water_status(decision_tree_model, soil_moisture, temperature, air_humidity)\n",
    "print(f\"Decision Tree Prediction: {dt_status}\")"
   ]
  },
  {
   "cell_type": "code",
   "execution_count": 69,
   "metadata": {
    "colab": {
     "base_uri": "https://localhost:8080/"
    },
    "id": "FClCE5QNpuXz",
    "outputId": "6208fa69-0da1-4dc5-ce1f-6fcbd0a0e529"
   },
   "outputs": [
    {
     "name": "stdout",
     "output_type": "stream",
     "text": [
      "Random Forest Prediction: decrease water\n"
     ]
    }
   ],
   "source": [
    "# Predict using Random Forest\n",
    "rf_status = predict_water_status(random_forest_model, soil_moisture, temperature, air_humidity)\n",
    "print(f\"Random Forest Prediction: {rf_status}\")"
   ]
  },
  {
   "cell_type": "code",
   "execution_count": 70,
   "metadata": {
    "colab": {
     "base_uri": "https://localhost:8080/"
    },
    "id": "nqGjf4YSpxQ6",
    "outputId": "c42bb894-5bc5-4131-be55-bd961faf0201"
   },
   "outputs": [
    {
     "name": "stdout",
     "output_type": "stream",
     "text": [
      "Gradient Boosting Prediction: decrease water\n"
     ]
    }
   ],
   "source": [
    "# Predict using Gradient Boosting\n",
    "gb_status = predict_water_status(gradient_boosting_model, soil_moisture, temperature, air_humidity)\n",
    "print(f\"Gradient Boosting Prediction: {gb_status}\")"
   ]
  },
  {
   "cell_type": "code",
   "execution_count": 71,
   "metadata": {
    "colab": {
     "base_uri": "https://localhost:8080/"
    },
    "id": "kdnsg1wfpy-b",
    "outputId": "f2f7a702-c102-4bf0-cae6-fee781ae2d60"
   },
   "outputs": [
    {
     "name": "stdout",
     "output_type": "stream",
     "text": [
      "Neural Network Prediction: decrease water\n"
     ]
    }
   ],
   "source": [
    "# Predict using Neural Network\n",
    "nn_status = predict_water_status(neural_network_model, soil_moisture, temperature, air_humidity)\n",
    "print(f\"Neural Network Prediction: {nn_status}\")"
   ]
  },
  {
   "cell_type": "code",
   "execution_count": 72,
   "metadata": {
    "id": "wg53eiLlZrd4"
   },
   "outputs": [],
   "source": [
    "import pickle"
   ]
  },
  {
   "cell_type": "code",
   "execution_count": 73,
   "metadata": {
    "id": "-TefZ3iHIC_S"
   },
   "outputs": [],
   "source": [
    "pickle.dump(random_forest_model, open('random_forest_model.pkl', 'wb'))\n"
   ]
  },
  {
   "cell_type": "code",
   "execution_count": null,
   "metadata": {
    "colab": {
     "base_uri": "https://localhost:8080/"
    },
    "id": "nB8McN4ZMxUR",
    "outputId": "25db957f-668d-4abf-9c8b-0b6d9dc7628e"
   },
   "outputs": [
    {
     "name": "stdout",
     "output_type": "stream",
     "text": [
      "Collecting skops\n",
      "  Downloading skops-0.10.0-py3-none-any.whl (121 kB)\n",
      "\u001b[?25l     \u001b[90m━━━━━━━━━━━━━━━━━━━━━━━━━━━━━━━━━━━━━━━━\u001b[0m \u001b[32m0.0/121.9 kB\u001b[0m \u001b[31m?\u001b[0m eta \u001b[36m-:--:--\u001b[0m\r",
      "\u001b[2K     \u001b[91m━━━━━━━━━━━━━━━━━━━━━━━━━━━━━━━━━━━━\u001b[0m\u001b[91m╸\u001b[0m\u001b[90m━━━\u001b[0m \u001b[32m112.6/121.9 kB\u001b[0m \u001b[31m3.4 MB/s\u001b[0m eta \u001b[36m0:00:01\u001b[0m\r",
      "\u001b[2K     \u001b[90m━━━━━━━━━━━━━━━━━━━━━━━━━━━━━━━━━━━━━━━━\u001b[0m \u001b[32m121.9/121.9 kB\u001b[0m \u001b[31m2.9 MB/s\u001b[0m eta \u001b[36m0:00:00\u001b[0m\n",
      "\u001b[?25hRequirement already satisfied: scikit-learn>=0.24 in /usr/local/lib/python3.10/dist-packages (from skops) (1.2.2)\n",
      "Requirement already satisfied: huggingface-hub>=0.17.0 in /usr/local/lib/python3.10/dist-packages (from skops) (0.23.4)\n",
      "Requirement already satisfied: tabulate>=0.8.8 in /usr/local/lib/python3.10/dist-packages (from skops) (0.9.0)\n",
      "Requirement already satisfied: packaging>=17.0 in /usr/local/lib/python3.10/dist-packages (from skops) (24.1)\n",
      "Requirement already satisfied: filelock in /usr/local/lib/python3.10/dist-packages (from huggingface-hub>=0.17.0->skops) (3.15.4)\n",
      "Requirement already satisfied: fsspec>=2023.5.0 in /usr/local/lib/python3.10/dist-packages (from huggingface-hub>=0.17.0->skops) (2023.6.0)\n",
      "Requirement already satisfied: pyyaml>=5.1 in /usr/local/lib/python3.10/dist-packages (from huggingface-hub>=0.17.0->skops) (6.0.1)\n",
      "Requirement already satisfied: requests in /usr/local/lib/python3.10/dist-packages (from huggingface-hub>=0.17.0->skops) (2.31.0)\n",
      "Requirement already satisfied: tqdm>=4.42.1 in /usr/local/lib/python3.10/dist-packages (from huggingface-hub>=0.17.0->skops) (4.66.4)\n",
      "Requirement already satisfied: typing-extensions>=3.7.4.3 in /usr/local/lib/python3.10/dist-packages (from huggingface-hub>=0.17.0->skops) (4.12.2)\n",
      "Requirement already satisfied: numpy>=1.17.3 in /usr/local/lib/python3.10/dist-packages (from scikit-learn>=0.24->skops) (1.25.2)\n",
      "Requirement already satisfied: scipy>=1.3.2 in /usr/local/lib/python3.10/dist-packages (from scikit-learn>=0.24->skops) (1.11.4)\n",
      "Requirement already satisfied: joblib>=1.1.1 in /usr/local/lib/python3.10/dist-packages (from scikit-learn>=0.24->skops) (1.4.2)\n",
      "Requirement already satisfied: threadpoolctl>=2.0.0 in /usr/local/lib/python3.10/dist-packages (from scikit-learn>=0.24->skops) (3.5.0)\n",
      "Requirement already satisfied: charset-normalizer<4,>=2 in /usr/local/lib/python3.10/dist-packages (from requests->huggingface-hub>=0.17.0->skops) (3.3.2)\n",
      "Requirement already satisfied: idna<4,>=2.5 in /usr/local/lib/python3.10/dist-packages (from requests->huggingface-hub>=0.17.0->skops) (3.7)\n",
      "Requirement already satisfied: urllib3<3,>=1.21.1 in /usr/local/lib/python3.10/dist-packages (from requests->huggingface-hub>=0.17.0->skops) (2.0.7)\n",
      "Requirement already satisfied: certifi>=2017.4.17 in /usr/local/lib/python3.10/dist-packages (from requests->huggingface-hub>=0.17.0->skops) (2024.6.2)\n",
      "Installing collected packages: skops\n",
      "Successfully installed skops-0.10.0\n"
     ]
    }
   ],
   "source": [
    "# pip install skops\n"
   ]
  },
  {
   "cell_type": "code",
   "execution_count": null,
   "metadata": {
    "id": "7BF_DiPnIPKt"
   },
   "outputs": [],
   "source": [
    "import skops.io as sio\n",
    "obj = sio.dump(random_forest_model, \"random_forest_model.skops\")"
   ]
  },
  {
   "cell_type": "code",
   "execution_count": null,
   "metadata": {
    "id": "zZmdjDvxM36k"
   },
   "outputs": [],
   "source": [
    "unknown_types = sio.get_untrusted_types(file=\"random_forest_model.skops\")\n",
    "# investigate the contents of unknown_types, and only load if you trust\n",
    "# everything you see.\n",
    "random_forest_model = sio.load(\"random_forest_model.skops\", trusted=unknown_types)"
   ]
  },
  {
   "cell_type": "code",
   "execution_count": null,
   "metadata": {
    "id": "Xa7N2VwaNJTz"
   },
   "outputs": [],
   "source": []
  }
 ],
 "metadata": {
  "colab": {
   "provenance": []
  },
  "kernelspec": {
   "display_name": "Python 3",
   "name": "python3"
  },
  "language_info": {
   "name": "python"
  }
 },
 "nbformat": 4,
 "nbformat_minor": 0
}
